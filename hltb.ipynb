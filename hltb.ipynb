{
  "nbformat": 4,
  "nbformat_minor": 0,
  "metadata": {
    "kernelspec": {
      "display_name": "Python 3",
      "language": "python",
      "name": "python3"
    },
    "language_info": {
      "codemirror_mode": {
        "name": "ipython",
        "version": 3
      },
      "file_extension": ".py",
      "mimetype": "text/x-python",
      "name": "python",
      "nbconvert_exporter": "python",
      "pygments_lexer": "ipython3",
      "version": "3.7.4"
    },
    "pycharm": {
      "stem_cell": {
        "cell_type": "raw",
        "metadata": {
          "collapsed": false
        },
        "source": []
      }
    },
    "colab": {
      "name": "final_without.ipynb",
      "provenance": [],
      "collapsed_sections": []
    }
  },
  "cells": [
    {
      "cell_type": "markdown",
      "metadata": {
        "id": "BxyoVcCiMa_a",
        "colab_type": "text"
      },
      "source": [
        "In my previous work (https://github.com/morosow/hltb-analysis), I have written a parser to get data from the 'howlongtobeat.com' site. Today I will make a data frame from it, analyze information and set a machine learning goal."
      ]
    },
    {
      "cell_type": "markdown",
      "metadata": {
        "id": "TcKAcHg-KAUL",
        "colab_type": "text"
      },
      "source": [
        "    1. Data wrangling\n",
        "        1.1. Importing libraries\n",
        "        1.2. Checking data\n",
        "        1.3. Deleting empty rows and duplicates\n",
        "        1.4. Converting time to minutes\n",
        "        1.5. Converting sample's number to integer value\n",
        "    2. Data Analysis\n",
        "        2.1. Developers overview\n",
        "        2.2. Platforms overview\n",
        "        2.3. Genres overview\n",
        "        2.4. Games overview\n",
        "    3. Machine learning models\n",
        "        3.1. Problem recognition\n",
        "        3.2. Walktroughs of main game prediction\n",
        "            3.2.1. Model choosing\n",
        "            3.2.2. Splitting data\n",
        "            3.2.3. Learning of model\n",
        "            3.2.4. Tuning parameters\n",
        "            3.2.5. Final predictions on trainset\n",
        "            3.2.6. Summarizing   \n",
        "        3.3. Games clustering (in progress...)"
      ]
    },
    {
      "cell_type": "markdown",
      "metadata": {
        "id": "qd_iwbTwKAUP",
        "colab_type": "text"
      },
      "source": [
        "### 1. Data wrangling"
      ]
    },
    {
      "cell_type": "markdown",
      "metadata": {
        "id": "r1mIgRBaKAUR",
        "colab_type": "text"
      },
      "source": [
        "#### 1.1 Importing libraries"
      ]
    },
    {
      "cell_type": "markdown",
      "metadata": {
        "id": "pVG9PV2KPpVT",
        "colab_type": "text"
      },
      "source": [
        "A ML-libraries will be imported in the relevant section. (see 3.3)"
      ]
    },
    {
      "cell_type": "code",
      "metadata": {
        "pycharm": {
          "is_executing": false
        },
        "id": "WdcXoWUFKAUS",
        "colab_type": "code",
        "colab": {}
      },
      "source": [
        "import numpy as np\n",
        "import pandas as pd\n",
        "import matplotlib.pyplot as plt\n",
        "import seaborn as sns\n",
        "\n",
        "%matplotlib inline"
      ],
      "execution_count": 0,
      "outputs": []
    },
    {
      "cell_type": "code",
      "metadata": {
        "pycharm": {
          "is_executing": false
        },
        "id": "QSUtxBc1KAUX",
        "colab_type": "code",
        "outputId": "372bf72d-9f82-441f-d8ba-1e54a46ac66a",
        "colab": {
          "base_uri": "https://localhost:8080/",
          "height": 88
        }
      },
      "source": [
        "data = pd.read_csv('final.csv', sep=';', header=0, skip_blank_lines=True, error_bad_lines=False)"
      ],
      "execution_count": 2,
      "outputs": [
        {
          "output_type": "stream",
          "text": [
            "b'Skipping line 40946: expected 51 fields, saw 99\\n'\n",
            "/usr/local/lib/python3.6/dist-packages/IPython/core/interactiveshell.py:2718: DtypeWarning: Columns (10,15,20,25,36,37,38,39) have mixed types. Specify dtype option on import or set low_memory=False.\n",
            "  interactivity=interactivity, compiler=compiler, result=result)\n"
          ],
          "name": "stderr"
        }
      ]
    },
    {
      "cell_type": "markdown",
      "metadata": {
        "id": "qJ8vTAkqQoJY",
        "colab_type": "text"
      },
      "source": [
        "Only one bad line is not so good result."
      ]
    },
    {
      "cell_type": "markdown",
      "metadata": {
        "id": "p5hIlEZQKAUe",
        "colab_type": "text"
      },
      "source": [
        "#### 1.2. Checking data"
      ]
    },
    {
      "cell_type": "markdown",
      "metadata": {
        "id": "94LOvvs8REeU",
        "colab_type": "text"
      },
      "source": [
        "Let's check how big our data set."
      ]
    },
    {
      "cell_type": "code",
      "metadata": {
        "id": "R5SelclrKAUf",
        "colab_type": "code",
        "outputId": "4eb00f9c-ef74-44e0-afe2-1563232896c9",
        "colab": {
          "base_uri": "https://localhost:8080/",
          "height": 34
        }
      },
      "source": [
        "data.shape"
      ],
      "execution_count": 3,
      "outputs": [
        {
          "output_type": "execute_result",
          "data": {
            "text/plain": [
              "(85024, 51)"
            ]
          },
          "metadata": {
            "tags": []
          },
          "execution_count": 3
        }
      ]
    },
    {
      "cell_type": "markdown",
      "metadata": {
        "id": "c-ASwwW3RV0I",
        "colab_type": "text"
      },
      "source": [
        "So, 85 thousand records. It is really good and will help us when we will train our model."
      ]
    },
    {
      "cell_type": "code",
      "metadata": {
        "id": "r70miWYgKAUs",
        "colab_type": "code",
        "outputId": "67689bc7-3c7c-447a-c4fb-aaa3a168fd8e",
        "colab": {
          "base_uri": "https://localhost:8080/",
          "height": 306
        }
      },
      "source": [
        "print(data.columns)"
      ],
      "execution_count": 4,
      "outputs": [
        {
          "output_type": "stream",
          "text": [
            "Index(['Url', 'Title', 'Description', 'Developer', 'Publisher', 'Genres',\n",
            "       'Playable On', 'Released in NA', 'Released in EU', 'Released in JP',\n",
            "       'Main Story Polled', 'Main Story Average', 'Main Story Median',\n",
            "       'Main Story Rushed', 'Main Story Leisure', 'Main + Extras Polled',\n",
            "       'Main + Extras Average', 'Main + Extras Median', 'Main + Extras Rushed',\n",
            "       'Main + Extras Leisure', 'Completionists Polled',\n",
            "       'Completionists Average', 'Completionists Median',\n",
            "       'Completionists Rushed', 'Completionists Leisure',\n",
            "       'AllPlayStyles Polled', 'AllPlayStyles Average', 'AllPlayStyles Median',\n",
            "       'AllPlayStyles Rushed', 'AllPlayStyles Leisure', 'Any% Polled',\n",
            "       'Any% Average', 'Any% Median', 'Any% Fastest', 'Any% Slowest',\n",
            "       '100% Polled', '100% Average', '100% Median', '100% Fastest',\n",
            "       '100% Slowest', 'Co-Op Polled', 'Co-Op Average', 'Co-Op Median',\n",
            "       'Co-Op Least', 'Co-Op Most', 'Competetive Polled',\n",
            "       'Competetive Average', 'Competetive Median', 'Competetive Least',\n",
            "       'Competetive Most', 'Unnamed: 50'],\n",
            "      dtype='object')\n"
          ],
          "name": "stdout"
        }
      ]
    },
    {
      "cell_type": "code",
      "metadata": {
        "id": "WQarSqyMKAUl",
        "colab_type": "code",
        "outputId": "22df6795-1b66-479c-c0fc-74a98d49f336",
        "colab": {
          "base_uri": "https://localhost:8080/",
          "height": 360
        }
      },
      "source": [
        "data.head()"
      ],
      "execution_count": 5,
      "outputs": [
        {
          "output_type": "execute_result",
          "data": {
            "text/html": [
              "<div>\n",
              "<style scoped>\n",
              "    .dataframe tbody tr th:only-of-type {\n",
              "        vertical-align: middle;\n",
              "    }\n",
              "\n",
              "    .dataframe tbody tr th {\n",
              "        vertical-align: top;\n",
              "    }\n",
              "\n",
              "    .dataframe thead th {\n",
              "        text-align: right;\n",
              "    }\n",
              "</style>\n",
              "<table border=\"1\" class=\"dataframe\">\n",
              "  <thead>\n",
              "    <tr style=\"text-align: right;\">\n",
              "      <th></th>\n",
              "      <th>Url</th>\n",
              "      <th>Title</th>\n",
              "      <th>Description</th>\n",
              "      <th>Developer</th>\n",
              "      <th>Publisher</th>\n",
              "      <th>Genres</th>\n",
              "      <th>Playable On</th>\n",
              "      <th>Released in NA</th>\n",
              "      <th>Released in EU</th>\n",
              "      <th>Released in JP</th>\n",
              "      <th>Main Story Polled</th>\n",
              "      <th>Main Story Average</th>\n",
              "      <th>Main Story Median</th>\n",
              "      <th>Main Story Rushed</th>\n",
              "      <th>Main Story Leisure</th>\n",
              "      <th>Main + Extras Polled</th>\n",
              "      <th>Main + Extras Average</th>\n",
              "      <th>Main + Extras Median</th>\n",
              "      <th>Main + Extras Rushed</th>\n",
              "      <th>Main + Extras Leisure</th>\n",
              "      <th>Completionists Polled</th>\n",
              "      <th>Completionists Average</th>\n",
              "      <th>Completionists Median</th>\n",
              "      <th>Completionists Rushed</th>\n",
              "      <th>Completionists Leisure</th>\n",
              "      <th>AllPlayStyles Polled</th>\n",
              "      <th>AllPlayStyles Average</th>\n",
              "      <th>AllPlayStyles Median</th>\n",
              "      <th>AllPlayStyles Rushed</th>\n",
              "      <th>AllPlayStyles Leisure</th>\n",
              "      <th>Any% Polled</th>\n",
              "      <th>Any% Average</th>\n",
              "      <th>Any% Median</th>\n",
              "      <th>Any% Fastest</th>\n",
              "      <th>Any% Slowest</th>\n",
              "      <th>100% Polled</th>\n",
              "      <th>100% Average</th>\n",
              "      <th>100% Median</th>\n",
              "      <th>100% Fastest</th>\n",
              "      <th>100% Slowest</th>\n",
              "      <th>Co-Op Polled</th>\n",
              "      <th>Co-Op Average</th>\n",
              "      <th>Co-Op Median</th>\n",
              "      <th>Co-Op Least</th>\n",
              "      <th>Co-Op Most</th>\n",
              "      <th>Competetive Polled</th>\n",
              "      <th>Competetive Average</th>\n",
              "      <th>Competetive Median</th>\n",
              "      <th>Competetive Least</th>\n",
              "      <th>Competetive Most</th>\n",
              "      <th>Unnamed: 50</th>\n",
              "    </tr>\n",
              "  </thead>\n",
              "  <tbody>\n",
              "    <tr>\n",
              "      <th>0</th>\n",
              "      <td>NaN</td>\n",
              "      <td>NaN</td>\n",
              "      <td>NaN</td>\n",
              "      <td>NaN</td>\n",
              "      <td>NaN</td>\n",
              "      <td>NaN</td>\n",
              "      <td>NaN</td>\n",
              "      <td>NaN</td>\n",
              "      <td>NaN</td>\n",
              "      <td>NaN</td>\n",
              "      <td>NaN</td>\n",
              "      <td>NaN</td>\n",
              "      <td>NaN</td>\n",
              "      <td>NaN</td>\n",
              "      <td>NaN</td>\n",
              "      <td>NaN</td>\n",
              "      <td>NaN</td>\n",
              "      <td>NaN</td>\n",
              "      <td>NaN</td>\n",
              "      <td>NaN</td>\n",
              "      <td>NaN</td>\n",
              "      <td>NaN</td>\n",
              "      <td>NaN</td>\n",
              "      <td>NaN</td>\n",
              "      <td>NaN</td>\n",
              "      <td>NaN</td>\n",
              "      <td>NaN</td>\n",
              "      <td>NaN</td>\n",
              "      <td>NaN</td>\n",
              "      <td>NaN</td>\n",
              "      <td>NaN</td>\n",
              "      <td>NaN</td>\n",
              "      <td>NaN</td>\n",
              "      <td>NaN</td>\n",
              "      <td>NaN</td>\n",
              "      <td>NaN</td>\n",
              "      <td>NaN</td>\n",
              "      <td>NaN</td>\n",
              "      <td>NaN</td>\n",
              "      <td>NaN</td>\n",
              "      <td>NaN</td>\n",
              "      <td>NaN</td>\n",
              "      <td>NaN</td>\n",
              "      <td>NaN</td>\n",
              "      <td>NaN</td>\n",
              "      <td>NaN</td>\n",
              "      <td>NaN</td>\n",
              "      <td>NaN</td>\n",
              "      <td>NaN</td>\n",
              "      <td>NaN</td>\n",
              "      <td>NaN</td>\n",
              "    </tr>\n",
              "    <tr>\n",
              "      <th>1</th>\n",
              "      <td>https://howlongtobeat.com/game.php?id=1</td>\n",
              "      <td>688(I) Hunter/Killer</td>\n",
              "      <td>688(I) Hunter/Killer, the most realistic subma...</td>\n",
              "      <td>Sonalysts</td>\n",
              "      <td>Electronic Arts</td>\n",
              "      <td>NaN</td>\n",
              "      <td>PC</td>\n",
              "      <td>July 04, 1997</td>\n",
              "      <td>NaN</td>\n",
              "      <td>NaN</td>\n",
              "      <td>6</td>\n",
              "      <td>9h 10m</td>\n",
              "      <td>9h 34m</td>\n",
              "      <td>6h 26m</td>\n",
              "      <td>11h 36m</td>\n",
              "      <td>5</td>\n",
              "      <td>35h 22m</td>\n",
              "      <td>13h</td>\n",
              "      <td>14h 05m</td>\n",
              "      <td>72h 30m</td>\n",
              "      <td>2</td>\n",
              "      <td>15h 50m</td>\n",
              "      <td>15h 50m</td>\n",
              "      <td>10h 15m</td>\n",
              "      <td>21h 25m</td>\n",
              "      <td>13</td>\n",
              "      <td>20h 16m</td>\n",
              "      <td>11h 01m</td>\n",
              "      <td>9h 34m</td>\n",
              "      <td>68h 14m</td>\n",
              "      <td>1.0</td>\n",
              "      <td>7h 55m 44s</td>\n",
              "      <td>7h 55m 44s</td>\n",
              "      <td>7h 55m 44s</td>\n",
              "      <td>7h 55m 44s</td>\n",
              "      <td>NaN</td>\n",
              "      <td>NaN</td>\n",
              "      <td>NaN</td>\n",
              "      <td>NaN</td>\n",
              "      <td>NaN</td>\n",
              "      <td>NaN</td>\n",
              "      <td>NaN</td>\n",
              "      <td>NaN</td>\n",
              "      <td>NaN</td>\n",
              "      <td>NaN</td>\n",
              "      <td>NaN</td>\n",
              "      <td>NaN</td>\n",
              "      <td>NaN</td>\n",
              "      <td>NaN</td>\n",
              "      <td>NaN</td>\n",
              "      <td>NaN</td>\n",
              "    </tr>\n",
              "    <tr>\n",
              "      <th>2</th>\n",
              "      <td>https://howlongtobeat.com/game.php?id=2</td>\n",
              "      <td>Beyond Good &amp; Evil 2</td>\n",
              "      <td>NaN</td>\n",
              "      <td>Ubisoft Montpellier</td>\n",
              "      <td>Ubisoft</td>\n",
              "      <td>Action, Adventure</td>\n",
              "      <td>NaN</td>\n",
              "      <td>2016</td>\n",
              "      <td>NaN</td>\n",
              "      <td>NaN</td>\n",
              "      <td>NaN</td>\n",
              "      <td>NaN</td>\n",
              "      <td>NaN</td>\n",
              "      <td>NaN</td>\n",
              "      <td>NaN</td>\n",
              "      <td>NaN</td>\n",
              "      <td>NaN</td>\n",
              "      <td>NaN</td>\n",
              "      <td>NaN</td>\n",
              "      <td>NaN</td>\n",
              "      <td>NaN</td>\n",
              "      <td>NaN</td>\n",
              "      <td>NaN</td>\n",
              "      <td>NaN</td>\n",
              "      <td>NaN</td>\n",
              "      <td>NaN</td>\n",
              "      <td>NaN</td>\n",
              "      <td>NaN</td>\n",
              "      <td>NaN</td>\n",
              "      <td>NaN</td>\n",
              "      <td>NaN</td>\n",
              "      <td>NaN</td>\n",
              "      <td>NaN</td>\n",
              "      <td>NaN</td>\n",
              "      <td>NaN</td>\n",
              "      <td>NaN</td>\n",
              "      <td>NaN</td>\n",
              "      <td>NaN</td>\n",
              "      <td>NaN</td>\n",
              "      <td>NaN</td>\n",
              "      <td>NaN</td>\n",
              "      <td>NaN</td>\n",
              "      <td>NaN</td>\n",
              "      <td>NaN</td>\n",
              "      <td>NaN</td>\n",
              "      <td>NaN</td>\n",
              "      <td>NaN</td>\n",
              "      <td>NaN</td>\n",
              "      <td>NaN</td>\n",
              "      <td>NaN</td>\n",
              "      <td>NaN</td>\n",
              "    </tr>\n",
              "    <tr>\n",
              "      <th>3</th>\n",
              "      <td>NaN</td>\n",
              "      <td>NaN</td>\n",
              "      <td>NaN</td>\n",
              "      <td>NaN</td>\n",
              "      <td>NaN</td>\n",
              "      <td>NaN</td>\n",
              "      <td>NaN</td>\n",
              "      <td>NaN</td>\n",
              "      <td>NaN</td>\n",
              "      <td>NaN</td>\n",
              "      <td>NaN</td>\n",
              "      <td>NaN</td>\n",
              "      <td>NaN</td>\n",
              "      <td>NaN</td>\n",
              "      <td>NaN</td>\n",
              "      <td>NaN</td>\n",
              "      <td>NaN</td>\n",
              "      <td>NaN</td>\n",
              "      <td>NaN</td>\n",
              "      <td>NaN</td>\n",
              "      <td>NaN</td>\n",
              "      <td>NaN</td>\n",
              "      <td>NaN</td>\n",
              "      <td>NaN</td>\n",
              "      <td>NaN</td>\n",
              "      <td>NaN</td>\n",
              "      <td>NaN</td>\n",
              "      <td>NaN</td>\n",
              "      <td>NaN</td>\n",
              "      <td>NaN</td>\n",
              "      <td>NaN</td>\n",
              "      <td>NaN</td>\n",
              "      <td>NaN</td>\n",
              "      <td>NaN</td>\n",
              "      <td>NaN</td>\n",
              "      <td>NaN</td>\n",
              "      <td>NaN</td>\n",
              "      <td>NaN</td>\n",
              "      <td>NaN</td>\n",
              "      <td>NaN</td>\n",
              "      <td>NaN</td>\n",
              "      <td>NaN</td>\n",
              "      <td>NaN</td>\n",
              "      <td>NaN</td>\n",
              "      <td>NaN</td>\n",
              "      <td>NaN</td>\n",
              "      <td>NaN</td>\n",
              "      <td>NaN</td>\n",
              "      <td>NaN</td>\n",
              "      <td>NaN</td>\n",
              "      <td>NaN</td>\n",
              "    </tr>\n",
              "    <tr>\n",
              "      <th>4</th>\n",
              "      <td>NaN</td>\n",
              "      <td>NaN</td>\n",
              "      <td>NaN</td>\n",
              "      <td>NaN</td>\n",
              "      <td>NaN</td>\n",
              "      <td>NaN</td>\n",
              "      <td>NaN</td>\n",
              "      <td>NaN</td>\n",
              "      <td>NaN</td>\n",
              "      <td>NaN</td>\n",
              "      <td>NaN</td>\n",
              "      <td>NaN</td>\n",
              "      <td>NaN</td>\n",
              "      <td>NaN</td>\n",
              "      <td>NaN</td>\n",
              "      <td>NaN</td>\n",
              "      <td>NaN</td>\n",
              "      <td>NaN</td>\n",
              "      <td>NaN</td>\n",
              "      <td>NaN</td>\n",
              "      <td>NaN</td>\n",
              "      <td>NaN</td>\n",
              "      <td>NaN</td>\n",
              "      <td>NaN</td>\n",
              "      <td>NaN</td>\n",
              "      <td>NaN</td>\n",
              "      <td>NaN</td>\n",
              "      <td>NaN</td>\n",
              "      <td>NaN</td>\n",
              "      <td>NaN</td>\n",
              "      <td>NaN</td>\n",
              "      <td>NaN</td>\n",
              "      <td>NaN</td>\n",
              "      <td>NaN</td>\n",
              "      <td>NaN</td>\n",
              "      <td>NaN</td>\n",
              "      <td>NaN</td>\n",
              "      <td>NaN</td>\n",
              "      <td>NaN</td>\n",
              "      <td>NaN</td>\n",
              "      <td>NaN</td>\n",
              "      <td>NaN</td>\n",
              "      <td>NaN</td>\n",
              "      <td>NaN</td>\n",
              "      <td>NaN</td>\n",
              "      <td>NaN</td>\n",
              "      <td>NaN</td>\n",
              "      <td>NaN</td>\n",
              "      <td>NaN</td>\n",
              "      <td>NaN</td>\n",
              "      <td>NaN</td>\n",
              "    </tr>\n",
              "  </tbody>\n",
              "</table>\n",
              "</div>"
            ],
            "text/plain": [
              "                                       Url  ... Unnamed: 50\n",
              "0                                      NaN  ...         NaN\n",
              "1  https://howlongtobeat.com/game.php?id=1  ...         NaN\n",
              "2  https://howlongtobeat.com/game.php?id=2  ...         NaN\n",
              "3                                      NaN  ...         NaN\n",
              "4                                      NaN  ...         NaN\n",
              "\n",
              "[5 rows x 51 columns]"
            ]
          },
          "metadata": {
            "tags": []
          },
          "execution_count": 5
        }
      ]
    },
    {
      "cell_type": "markdown",
      "metadata": {
        "id": "4tNW6mkLSPpN",
        "colab_type": "text"
      },
      "source": [
        "Quite a lot of cells are empty, but it needs to see the whole picture."
      ]
    },
    {
      "cell_type": "code",
      "metadata": {
        "id": "3qDGoKE3KAUx",
        "colab_type": "code",
        "outputId": "eafad572-13cc-42e2-a2f7-7cdc5449f677",
        "colab": {
          "base_uri": "https://localhost:8080/",
          "height": 969
        }
      },
      "source": [
        "data.info(memory_usage = 'deep', verbose = 'True')"
      ],
      "execution_count": 6,
      "outputs": [
        {
          "output_type": "stream",
          "text": [
            "<class 'pandas.core.frame.DataFrame'>\n",
            "RangeIndex: 85024 entries, 0 to 85023\n",
            "Data columns (total 51 columns):\n",
            "Url                       74318 non-null object\n",
            "Title                     74316 non-null object\n",
            "Description               38815 non-null object\n",
            "Developer                 42681 non-null object\n",
            "Publisher                 40865 non-null object\n",
            "Genres                    19337 non-null object\n",
            "Playable On               26613 non-null object\n",
            "Released in NA            39790 non-null object\n",
            "Released in EU            16868 non-null object\n",
            "Released in JP            6609 non-null object\n",
            "Main Story Polled         22563 non-null object\n",
            "Main Story Average        22559 non-null object\n",
            "Main Story Median         22559 non-null object\n",
            "Main Story Rushed         22559 non-null object\n",
            "Main Story Leisure        22560 non-null object\n",
            "Main + Extras Polled      14842 non-null object\n",
            "Main + Extras Average     14841 non-null object\n",
            "Main + Extras Median      14840 non-null object\n",
            "Main + Extras Rushed      14839 non-null object\n",
            "Main + Extras Leisure     14840 non-null object\n",
            "Completionists Polled     16411 non-null object\n",
            "Completionists Average    16399 non-null object\n",
            "Completionists Median     16399 non-null object\n",
            "Completionists Rushed     16397 non-null object\n",
            "Completionists Leisure    16400 non-null object\n",
            "AllPlayStyles Polled      27345 non-null object\n",
            "AllPlayStyles Average     27330 non-null object\n",
            "AllPlayStyles Median      27330 non-null object\n",
            "AllPlayStyles Rushed      27326 non-null object\n",
            "AllPlayStyles Leisure     27329 non-null object\n",
            "Any% Polled               2116 non-null float64\n",
            "Any% Average              2116 non-null object\n",
            "Any% Median               2116 non-null object\n",
            "Any% Fastest              2116 non-null object\n",
            "Any% Slowest              2116 non-null object\n",
            "100% Polled               213 non-null float64\n",
            "100% Average              213 non-null object\n",
            "100% Median               213 non-null object\n",
            "100% Fastest              213 non-null object\n",
            "100% Slowest              213 non-null object\n",
            "Co-Op Polled              1662 non-null float64\n",
            "Co-Op Average             1661 non-null object\n",
            "Co-Op Median              1661 non-null object\n",
            "Co-Op Least               1661 non-null object\n",
            "Co-Op Most                1661 non-null object\n",
            "Competetive Polled        1449 non-null float64\n",
            "Competetive Average       1449 non-null object\n",
            "Competetive Median        1449 non-null object\n",
            "Competetive Least         1449 non-null object\n",
            "Competetive Most          1449 non-null object\n",
            "Unnamed: 50               0 non-null float64\n",
            "dtypes: float64(5), object(46)\n",
            "memory usage: 164.2 MB\n"
          ],
          "name": "stdout"
        }
      ]
    },
    {
      "cell_type": "markdown",
      "metadata": {
        "id": "_V9TFKXnZ48q",
        "colab_type": "text"
      },
      "source": [
        "There are not so many fields with more than 10 000 records. As first we need to clean our data."
      ]
    },
    {
      "cell_type": "markdown",
      "metadata": {
        "id": "V2p2u8E0KAU3",
        "colab_type": "text"
      },
      "source": [
        "#### 1.3. Deleting empty rows and duplicates"
      ]
    },
    {
      "cell_type": "markdown",
      "metadata": {
        "id": "INtKElHgcjho",
        "colab_type": "text"
      },
      "source": [
        "Delete incorrect column and first row."
      ]
    },
    {
      "cell_type": "code",
      "metadata": {
        "id": "k5TPpLvfKAU5",
        "colab_type": "code",
        "colab": {}
      },
      "source": [
        "data = data.drop(['Unnamed: 50'], axis = 1)\n",
        "data = data.drop([0], axis = 0)"
      ],
      "execution_count": 0,
      "outputs": []
    },
    {
      "cell_type": "markdown",
      "metadata": {
        "id": "GZrMQn_Rc1G7",
        "colab_type": "text"
      },
      "source": [
        "Also, duplicates and reindex out df."
      ]
    },
    {
      "cell_type": "code",
      "metadata": {
        "jupyter": {
          "outputs_hidden": false
        },
        "pycharm": {
          "is_executing": false,
          "name": "#%%\n"
        },
        "id": "SR07JauVKAU9",
        "colab_type": "code",
        "colab": {}
      },
      "source": [
        "data.drop_duplicates(keep = 'first', inplace=True)\n",
        "data.set_index(np.arange(0, data.shape[0]), inplace = True)"
      ],
      "execution_count": 0,
      "outputs": []
    },
    {
      "cell_type": "markdown",
      "metadata": {
        "id": "63znqzTJKAVH",
        "colab_type": "text"
      },
      "source": [
        "#### 1.4. Converting time to minutes"
      ]
    },
    {
      "cell_type": "markdown",
      "metadata": {
        "pycharm": {
          "name": "#%% md\n"
        },
        "id": "-ezZy0NgKAVI",
        "colab_type": "text"
      },
      "source": [
        "Now our time is in form like \"hh mm ss\". Of course, it needs to be converted into float format.\n",
        "\n",
        "I have chosen hours to avoid large values in the cell."
      ]
    },
    {
      "cell_type": "code",
      "metadata": {
        "jupyter": {
          "outputs_hidden": false
        },
        "pycharm": {
          "is_executing": false,
          "name": "#%%\n"
        },
        "id": "Qc1bBeBQKAVK",
        "colab_type": "code",
        "colab": {}
      },
      "source": [
        "def time_convert(columnNumber):\n",
        "    rowsCounter = 0\n",
        "\n",
        "    for time in data.iloc[:, columnNumber]:\n",
        "        if time == time:\n",
        "            if len(time) > 0:\n",
        "                if time.find('h') > 0:\n",
        "                    if time.find('m') > 0:\n",
        "                        if time.find('s') > 0:  # hours, minutes,seconds\n",
        "                            data.iloc[rowsCounter, columnNumber] = int(time[0:time.find('h')]) + int(\n",
        "                                time[time.find('m') - 2:time.find('m')]) / 60 + int(\n",
        "                                time[time.find('s') - 3:time.find('s')]) / 3600\n",
        "                        else:  # hours and minutes\n",
        "                            data.iloc[rowsCounter, columnNumber] = int(time[0:time.find('h')]) + int(time[-4:-2]) / 60\n",
        "                    elif time.find('s') > 0:  # hours and seconds\n",
        "                        data.iloc[rowsCounter, columnNumber] = int(time[0:time.find('h')]) + int(time[-4:-2]) / 3600\n",
        "                    else:  # only hours\n",
        "                        data.iloc[rowsCounter, columnNumber] = int(time[:-2])\n",
        "                else:\n",
        "                    if time.find('m') > 0:\n",
        "                        if time.find('s') > 0:  # minutes and seconds\n",
        "                            data.iloc[rowsCounter, columnNumber] = int(time[0:time.find('m')]) / 60 + int(\n",
        "                                time[-4:-2]) / 3600\n",
        "                        else:  # only minutes\n",
        "                            data.iloc[rowsCounter, columnNumber] = int(time[0:2]) / 60\n",
        "                    else:\n",
        "                        if time.find('s') > 0:  # only seconds\n",
        "                            data.iloc[rowsCounter, columnNumber] = int(time[0:2]) / 3600\n",
        "                        else:  # unexpected value\n",
        "                            data.iloc[rowsCounter, columnNumber] = 0\n",
        "        rowsCounter += 1"
      ],
      "execution_count": 0,
      "outputs": []
    },
    {
      "cell_type": "markdown",
      "metadata": {
        "id": "17LdKAOMpg5d",
        "colab_type": "text"
      },
      "source": [
        "Although our function replaces the data, we just need to run it once for all columns in the same format. There are 32 such columns in df."
      ]
    },
    {
      "cell_type": "code",
      "metadata": {
        "jupyter": {
          "outputs_hidden": false
        },
        "pycharm": {
          "is_executing": false,
          "name": "#%%        \n"
        },
        "id": "P0x7dZATKAVN",
        "colab_type": "code",
        "colab": {}
      },
      "source": [
        "timeIndexes = [11, 12, 13, 14, 16, 17, 18, 19, 21, 22, 23, 24, 26, 27, 28, 29, 31, 32, 33, 34, 36, 37, 38, 39, 41, 42,\n",
        "               43, 44, 46, 47, 48, 49]\n",
        "\n",
        "\n",
        "for row in timeIndexes:\n",
        "    time_convert(row)"
      ],
      "execution_count": 0,
      "outputs": []
    },
    {
      "cell_type": "markdown",
      "metadata": {
        "id": "Jgv2mOLuvugD",
        "colab_type": "text"
      },
      "source": [
        "Another type of abbreviation is 'k' as a thousand. Write the function..."
      ]
    },
    {
      "cell_type": "code",
      "metadata": {
        "jupyter": {
          "outputs_hidden": false
        },
        "pycharm": {
          "is_executing": false,
          "name": "#%%\n"
        },
        "id": "xtR6Tv-JKAVT",
        "colab_type": "code",
        "colab": {}
      },
      "source": [
        "def polled_convert(columnNumber):\n",
        "    for row in range(data.shape[0]):\n",
        "        if data.iloc[row, columnNumber] == data.iloc[row, columnNumber]:\n",
        "            if str(data.iloc[row, columnNumber]).find('K') > 0:  # 1K = 1000\n",
        "                try:\n",
        "                    data.iloc[row, columnNumber] = int(float(data.iloc[row, columnNumber][:-2]) * 1000)\n",
        "                except Exception as e:\n",
        "                    print(e)"
      ],
      "execution_count": 0,
      "outputs": []
    },
    {
      "cell_type": "markdown",
      "metadata": {
        "id": "kgIQxxFZKAVX",
        "colab_type": "text"
      },
      "source": [
        "#### 1.5. Converting sample's number to integer value"
      ]
    },
    {
      "cell_type": "markdown",
      "metadata": {
        "id": "OI8tBsbH2b5n",
        "colab_type": "text"
      },
      "source": [
        "...and finally convert it."
      ]
    },
    {
      "cell_type": "code",
      "metadata": {
        "jupyter": {
          "outputs_hidden": false
        },
        "pycharm": {
          "is_executing": false,
          "name": "#%%\n"
        },
        "id": "ut2WDeMXKAVZ",
        "colab_type": "code",
        "outputId": "ff614b60-7386-461e-d348-1c2dc044f11c",
        "colab": {
          "base_uri": "https://localhost:8080/",
          "height": 34
        }
      },
      "source": [
        "polledIndexes = [10, 15, 20, 25, 30, 35, 40, 45]\n",
        "\n",
        "# Converting k-values to integer\n",
        "for row in polledIndexes:\n",
        "    polled_convert(row)"
      ],
      "execution_count": 12,
      "outputs": [
        {
          "output_type": "stream",
          "text": [
            "could not convert string to float: '1K'\n"
          ],
          "name": "stdout"
        }
      ]
    },
    {
      "cell_type": "markdown",
      "metadata": {
        "id": "sQQIJBRZKAVg",
        "colab_type": "text"
      },
      "source": [
        "### 2. Data Analysis"
      ]
    },
    {
      "cell_type": "markdown",
      "metadata": {
        "id": "oeCzucH43h54",
        "colab_type": "text"
      },
      "source": [
        "And now, when our data are prepared we can analyze it.\n",
        "As first we need to identify main features. \n",
        "\n",
        "For videogames, it's: *developer*, *platform* and *genre*.\n",
        "And finally, we need to overview the situation on the market."
      ]
    },
    {
      "cell_type": "markdown",
      "metadata": {
        "id": "TgPxH2EbKAVi",
        "colab_type": "text"
      },
      "source": [
        "#### 2.1. Developers overview"
      ]
    },
    {
      "cell_type": "markdown",
      "metadata": {
        "pycharm": {
          "is_executing": false,
          "name": "#%% md\n"
        },
        "id": "Xk9GJcqQKAVk",
        "colab_type": "text"
      },
      "source": [
        "Of course, our main question - how many developers exist in our data?"
      ]
    },
    {
      "cell_type": "code",
      "metadata": {
        "pycharm": {
          "is_executing": false
        },
        "id": "i6KyLYeqKAVm",
        "colab_type": "code",
        "outputId": "8ff84b51-6728-45be-d370-4d8a2cb20cb0",
        "colab": {
          "base_uri": "https://localhost:8080/",
          "height": 34
        }
      },
      "source": [
        "print(data['Developer'].nunique())"
      ],
      "execution_count": 13,
      "outputs": [
        {
          "output_type": "stream",
          "text": [
            "17229\n"
          ],
          "name": "stdout"
        }
      ]
    },
    {
      "cell_type": "markdown",
      "metadata": {
        "id": "MlV0Qj1w7sJB",
        "colab_type": "text"
      },
      "source": [
        "Nice, but is does not developers. It is non-empty strings because in one string might be several developers."
      ]
    },
    {
      "cell_type": "code",
      "metadata": {
        "jupyter": {
          "outputs_hidden": false
        },
        "pycharm": {
          "is_executing": false,
          "name": "#%%\n"
        },
        "id": "iDS3ZJJ2KAVv",
        "colab_type": "code",
        "colab": {}
      },
      "source": [
        "# Getting developers list\n",
        "developers_list = []\n",
        "\n",
        "for elem in data['Developer']:\n",
        "    if elem not in developers_list:\n",
        "        developers_list.append(elem)"
      ],
      "execution_count": 0,
      "outputs": []
    },
    {
      "cell_type": "markdown",
      "metadata": {
        "id": "cgsobk_7Gmws",
        "colab_type": "text"
      },
      "source": [
        "We added all these values ​​in a list. Now we need to split it, convert into a normal state and delete duplicates."
      ]
    },
    {
      "cell_type": "code",
      "metadata": {
        "jupyter": {
          "outputs_hidden": false
        },
        "pycharm": {
          "is_executing": false,
          "name": "#%%\n"
        },
        "id": "ZvOmH5OxKAVz",
        "colab_type": "code",
        "colab": {}
      },
      "source": [
        "# Getting list of all developers \n",
        "developers = []\n",
        "for dev in developers_list:\n",
        "    if isinstance(dev, str):\n",
        "        devsInString = 0\n",
        "        while devsInString < len(dev.split(sep=',')):\n",
        "            developers.append(dev.split(sep=',')[devsInString])\n",
        "            devsInString += 1\n",
        "\n",
        "# Deleting spaces             \n",
        "counter = 0\n",
        "for devs in developers:\n",
        "    if devs[0] == ' ':\n",
        "        developers[counter] = devs[1:]\n",
        "    counter += 1\n",
        "\n",
        "# Deleting duplicates\n",
        "developers = list(dict.fromkeys(developers))\n",
        "\n",
        "for dev in developers:\n",
        "    if isinstance(dev, str):\n",
        "        if len(dev) < 5:\n",
        "            developers.remove(dev)"
      ],
      "execution_count": 0,
      "outputs": []
    },
    {
      "cell_type": "markdown",
      "metadata": {
        "id": "Gun5ze-0MeJr",
        "colab_type": "text"
      },
      "source": [
        "Now, when we get the developers' list, let's count how much game do they made."
      ]
    },
    {
      "cell_type": "code",
      "metadata": {
        "id": "mf9aIhg-KAV3",
        "colab_type": "code",
        "colab": {}
      },
      "source": [
        "# Count games for every developer\n",
        "\n",
        "developersDict = {}\n",
        "for dev in developers:\n",
        "    if isinstance(dev, str):\n",
        "        counter = 0\n",
        "        for devsInString in data['Developer']:\n",
        "            if isinstance(devsInString, str):\n",
        "                if devsInString.find(dev) > 0 or devsInString == dev:\n",
        "                    counter += 1\n",
        "        developersDict[dev] = counter"
      ],
      "execution_count": 0,
      "outputs": []
    },
    {
      "cell_type": "markdown",
      "metadata": {
        "id": "j7RgnwypM3nc",
        "colab_type": "text"
      },
      "source": [
        "And convert in into dataframe."
      ]
    },
    {
      "cell_type": "code",
      "metadata": {
        "jupyter": {
          "outputs_hidden": false
        },
        "pycharm": {
          "is_executing": false,
          "name": "#%% \n"
        },
        "id": "EJISg0oqKAWK",
        "colab_type": "code",
        "colab": {}
      },
      "source": [
        "dev_df = pd.DataFrame(columns=['Developer', 'Games'])\n",
        "\n",
        "for key, value in developersDict.items():\n",
        "    dev_df = dev_df.append({'Developer': key, 'Games': value}, \n",
        "                           ignore_index=True)"
      ],
      "execution_count": 0,
      "outputs": []
    },
    {
      "cell_type": "markdown",
      "metadata": {
        "id": "P3qdaOfrrx6a",
        "colab_type": "text"
      },
      "source": [
        "Now we get a dataframe with developers and a number of their games. We only need to clean this data."
      ]
    },
    {
      "cell_type": "code",
      "metadata": {
        "jupyter": {
          "outputs_hidden": false
        },
        "pycharm": {
          "is_executing": false,
          "name": "#%%\n"
        },
        "id": "jB1oTy0ZKAWS",
        "colab_type": "code",
        "colab": {}
      },
      "source": [
        "dev_df.drop_duplicates(keep='first', inplace=True)\n",
        "dev_df.set_index(np.arange(0, dev_df.shape[0]), inplace=True)"
      ],
      "execution_count": 0,
      "outputs": []
    },
    {
      "cell_type": "code",
      "metadata": {
        "jupyter": {
          "outputs_hidden": false
        },
        "pycharm": {
          "is_executing": false,
          "name": "#%%\n"
        },
        "id": "wyEyFaK5KAWb",
        "colab_type": "code",
        "colab": {
          "base_uri": "https://localhost:8080/",
          "height": 1000
        },
        "outputId": "20727725-a63c-4d01-b1e8-68a5250981da"
      },
      "source": [
        "dev_df[dev_df['Games'] >= 50].sort_values(by='Games', ascending=False)[:]"
      ],
      "execution_count": 19,
      "outputs": [
        {
          "output_type": "execute_result",
          "data": {
            "text/html": [
              "<div>\n",
              "<style scoped>\n",
              "    .dataframe tbody tr th:only-of-type {\n",
              "        vertical-align: middle;\n",
              "    }\n",
              "\n",
              "    .dataframe tbody tr th {\n",
              "        vertical-align: top;\n",
              "    }\n",
              "\n",
              "    .dataframe thead th {\n",
              "        text-align: right;\n",
              "    }\n",
              "</style>\n",
              "<table border=\"1\" class=\"dataframe\">\n",
              "  <thead>\n",
              "    <tr style=\"text-align: right;\">\n",
              "      <th></th>\n",
              "      <th>Developer</th>\n",
              "      <th>Games</th>\n",
              "    </tr>\n",
              "  </thead>\n",
              "  <tbody>\n",
              "    <tr>\n",
              "      <th>9239</th>\n",
              "      <td>Production</td>\n",
              "      <td>566</td>\n",
              "    </tr>\n",
              "    <tr>\n",
              "      <th>173</th>\n",
              "      <td>Konami</td>\n",
              "      <td>380</td>\n",
              "    </tr>\n",
              "    <tr>\n",
              "      <th>23</th>\n",
              "      <td>Capcom</td>\n",
              "      <td>322</td>\n",
              "    </tr>\n",
              "    <tr>\n",
              "      <th>5148</th>\n",
              "      <td>Game Studio</td>\n",
              "      <td>217</td>\n",
              "    </tr>\n",
              "    <tr>\n",
              "      <th>99</th>\n",
              "      <td>Namco</td>\n",
              "      <td>197</td>\n",
              "    </tr>\n",
              "    <tr>\n",
              "      <th>317</th>\n",
              "      <td>Nintendo</td>\n",
              "      <td>140</td>\n",
              "    </tr>\n",
              "    <tr>\n",
              "      <th>6155</th>\n",
              "      <td>Vision</td>\n",
              "      <td>138</td>\n",
              "    </tr>\n",
              "    <tr>\n",
              "      <th>439</th>\n",
              "      <td>Telltale Games</td>\n",
              "      <td>135</td>\n",
              "    </tr>\n",
              "    <tr>\n",
              "      <th>14874</th>\n",
              "      <td>Montreal</td>\n",
              "      <td>120</td>\n",
              "    </tr>\n",
              "    <tr>\n",
              "      <th>127</th>\n",
              "      <td>Hudson Soft</td>\n",
              "      <td>118</td>\n",
              "    </tr>\n",
              "    <tr>\n",
              "      <th>599</th>\n",
              "      <td>Bandai</td>\n",
              "      <td>106</td>\n",
              "    </tr>\n",
              "    <tr>\n",
              "      <th>876</th>\n",
              "      <td>Square Enix</td>\n",
              "      <td>105</td>\n",
              "    </tr>\n",
              "    <tr>\n",
              "      <th>124</th>\n",
              "      <td>Atari</td>\n",
              "      <td>94</td>\n",
              "    </tr>\n",
              "    <tr>\n",
              "      <th>259</th>\n",
              "      <td>Ubisoft</td>\n",
              "      <td>87</td>\n",
              "    </tr>\n",
              "    <tr>\n",
              "      <th>27</th>\n",
              "      <td>EA Canada</td>\n",
              "      <td>86</td>\n",
              "    </tr>\n",
              "    <tr>\n",
              "      <th>318</th>\n",
              "      <td>Taito</td>\n",
              "      <td>81</td>\n",
              "    </tr>\n",
              "    <tr>\n",
              "      <th>677</th>\n",
              "      <td>Atlus</td>\n",
              "      <td>78</td>\n",
              "    </tr>\n",
              "    <tr>\n",
              "      <th>376</th>\n",
              "      <td>Ubisoft Montreal</td>\n",
              "      <td>74</td>\n",
              "    </tr>\n",
              "    <tr>\n",
              "      <th>17</th>\n",
              "      <td>Nintendo EAD</td>\n",
              "      <td>73</td>\n",
              "    </tr>\n",
              "    <tr>\n",
              "      <th>9112</th>\n",
              "      <td>Simulation</td>\n",
              "      <td>71</td>\n",
              "    </tr>\n",
              "    <tr>\n",
              "      <th>32</th>\n",
              "      <td>Square</td>\n",
              "      <td>71</td>\n",
              "    </tr>\n",
              "    <tr>\n",
              "      <th>1006</th>\n",
              "      <td>Pixel</td>\n",
              "      <td>71</td>\n",
              "    </tr>\n",
              "    <tr>\n",
              "      <th>8</th>\n",
              "      <td>Arc System Works</td>\n",
              "      <td>68</td>\n",
              "    </tr>\n",
              "    <tr>\n",
              "      <th>301</th>\n",
              "      <td>From Software</td>\n",
              "      <td>64</td>\n",
              "    </tr>\n",
              "    <tr>\n",
              "      <th>90</th>\n",
              "      <td>Natsume</td>\n",
              "      <td>63</td>\n",
              "    </tr>\n",
              "    <tr>\n",
              "      <th>446</th>\n",
              "      <td>Tecmo</td>\n",
              "      <td>63</td>\n",
              "    </tr>\n",
              "    <tr>\n",
              "      <th>374</th>\n",
              "      <td>Gameloft</td>\n",
              "      <td>62</td>\n",
              "    </tr>\n",
              "    <tr>\n",
              "      <th>578</th>\n",
              "      <td>Electronic Arts</td>\n",
              "      <td>62</td>\n",
              "    </tr>\n",
              "    <tr>\n",
              "      <th>229</th>\n",
              "      <td>Visual Concepts</td>\n",
              "      <td>60</td>\n",
              "    </tr>\n",
              "    <tr>\n",
              "      <th>617</th>\n",
              "      <td>Omega Force</td>\n",
              "      <td>60</td>\n",
              "    </tr>\n",
              "    <tr>\n",
              "      <th>1174</th>\n",
              "      <td>LucasArts</td>\n",
              "      <td>59</td>\n",
              "    </tr>\n",
              "    <tr>\n",
              "      <th>242</th>\n",
              "      <td>Activision</td>\n",
              "      <td>58</td>\n",
              "    </tr>\n",
              "    <tr>\n",
              "      <th>724</th>\n",
              "      <td>Dreams</td>\n",
              "      <td>54</td>\n",
              "    </tr>\n",
              "    <tr>\n",
              "      <th>451</th>\n",
              "      <td>BioWare</td>\n",
              "      <td>54</td>\n",
              "    </tr>\n",
              "    <tr>\n",
              "      <th>13467</th>\n",
              "      <td>Limited</td>\n",
              "      <td>54</td>\n",
              "    </tr>\n",
              "    <tr>\n",
              "      <th>119</th>\n",
              "      <td>Intelligent Systems</td>\n",
              "      <td>53</td>\n",
              "    </tr>\n",
              "    <tr>\n",
              "      <th>2602</th>\n",
              "      <td>Falcom</td>\n",
              "      <td>53</td>\n",
              "    </tr>\n",
              "    <tr>\n",
              "      <th>14543</th>\n",
              "      <td>Illusion</td>\n",
              "      <td>53</td>\n",
              "    </tr>\n",
              "    <tr>\n",
              "      <th>12107</th>\n",
              "      <td>Light</td>\n",
              "      <td>52</td>\n",
              "    </tr>\n",
              "    <tr>\n",
              "      <th>5328</th>\n",
              "      <td>Choice of Games</td>\n",
              "      <td>51</td>\n",
              "    </tr>\n",
              "    <tr>\n",
              "      <th>128</th>\n",
              "      <td>HAL Laboratory</td>\n",
              "      <td>51</td>\n",
              "    </tr>\n",
              "  </tbody>\n",
              "</table>\n",
              "</div>"
            ],
            "text/plain": [
              "                 Developer Games\n",
              "9239            Production   566\n",
              "173                 Konami   380\n",
              "23                  Capcom   322\n",
              "5148           Game Studio   217\n",
              "99                   Namco   197\n",
              "317               Nintendo   140\n",
              "6155                Vision   138\n",
              "439         Telltale Games   135\n",
              "14874             Montreal   120\n",
              "127            Hudson Soft   118\n",
              "599                 Bandai   106\n",
              "876            Square Enix   105\n",
              "124                  Atari    94\n",
              "259                Ubisoft    87\n",
              "27               EA Canada    86\n",
              "318                  Taito    81\n",
              "677                  Atlus    78\n",
              "376       Ubisoft Montreal    74\n",
              "17            Nintendo EAD    73\n",
              "9112            Simulation    71\n",
              "32                  Square    71\n",
              "1006                 Pixel    71\n",
              "8         Arc System Works    68\n",
              "301          From Software    64\n",
              "90                 Natsume    63\n",
              "446                  Tecmo    63\n",
              "374               Gameloft    62\n",
              "578        Electronic Arts    62\n",
              "229        Visual Concepts    60\n",
              "617            Omega Force    60\n",
              "1174             LucasArts    59\n",
              "242             Activision    58\n",
              "724                 Dreams    54\n",
              "451                BioWare    54\n",
              "13467              Limited    54\n",
              "119    Intelligent Systems    53\n",
              "2602                Falcom    53\n",
              "14543             Illusion    53\n",
              "12107                Light    52\n",
              "5328       Choice of Games    51\n",
              "128         HAL Laboratory    51"
            ]
          },
          "metadata": {
            "tags": []
          },
          "execution_count": 19
        }
      ]
    },
    {
      "cell_type": "code",
      "metadata": {
        "id": "ezKOinvpKAWf",
        "colab_type": "code",
        "colab": {}
      },
      "source": [
        "# Deleting incorrect values - 'Studio', 'Inc', 'Ltd', 'Inc' and so on...\n",
        "\n",
        "dev_df = dev_df.drop(5433,axis = 0)\n",
        "dev_df = dev_df.drop(9859,axis = 0)\n",
        "dev_df = dev_df.drop(1209,axis = 0)\n",
        "dev_df = dev_df.drop(3790,axis = 0)\n",
        "dev_df = dev_df.drop(6199,axis = 0)\n",
        "dev_df = dev_df.drop(8331,axis = 0)\n",
        "dev_df = dev_df.drop(8257,axis = 0)\n",
        "\n",
        "dev_df.set_index(np.arange(0, dev_df.shape[0]), inplace=True)"
      ],
      "execution_count": 0,
      "outputs": []
    },
    {
      "cell_type": "markdown",
      "metadata": {
        "id": "WRwF53umuD8X",
        "colab_type": "text"
      },
      "source": [
        "Super! I will not create an accurate graph, but we can see the basic statistics based on this data."
      ]
    },
    {
      "cell_type": "code",
      "metadata": {
        "pycharm": {
          "is_executing": false,
          "name": "#%%\n"
        },
        "id": "kvQ97TRpKAWX",
        "colab_type": "code",
        "outputId": "e9fe4bdc-1936-4b39-c995-c85a2f044610",
        "colab": {
          "base_uri": "https://localhost:8080/",
          "height": 119
        }
      },
      "source": [
        "# Developers, that create at least one game.\n",
        "non_zero = dev_df[dev_df['Games'] > 0]['Games'].count()\n",
        "\n",
        "\n",
        "print('Developed more than:')\n",
        "print('1 games:', '\\t{0:8.2f}%'.format((dev_df[dev_df['Games'] > 1]\n",
        "                                        ['Games'].count()) * 100 / non_zero))\n",
        "print('3 games:', '\\t{0:8.2f}%'.format((dev_df[dev_df['Games'] > 3]\n",
        "                                        ['Games'].count()) * 100 / non_zero))\n",
        "print('4 games:', '\\t{0:8.2f}%'.format((dev_df[dev_df['Games'] > 4]\n",
        "                                        ['Games'].count()) * 100 / non_zero))\n",
        "print('5 games:', '\\t{0:8.2f}%'.format((dev_df[dev_df['Games'] > 5]\n",
        "                                        ['Games'].count()) * 100 / non_zero))\n",
        "print('15 games:', '\\t{0:8.2f}%'.format((dev_df[dev_df['Games'] > 15]\n",
        "                                         ['Games'].count()) * 100 / non_zero))"
      ],
      "execution_count": 22,
      "outputs": [
        {
          "output_type": "stream",
          "text": [
            "Developed more than:\n",
            "1 games: \t   31.74%\n",
            "3 games: \t   12.16%\n",
            "4 games: \t    9.14%\n",
            "5 games: \t    7.03%\n",
            "15 games: \t    1.74%\n"
          ],
          "name": "stdout"
        }
      ]
    },
    {
      "cell_type": "markdown",
      "metadata": {
        "id": "qBGK0vCivchY",
        "colab_type": "text"
      },
      "source": [
        "Wow! 68.27% of developers have created only one game. Yes, the market is hard. But I have one funny fact:"
      ]
    },
    {
      "cell_type": "code",
      "metadata": {
        "jupyter": {
          "outputs_hidden": false
        },
        "pycharm": {
          "is_executing": false,
          "name": "#%%\n"
        },
        "id": "rUXjloPbKAWu",
        "colab_type": "code",
        "outputId": "2d3d964f-817f-4f9b-b0d3-906985d2be19",
        "colab": {
          "base_uri": "https://localhost:8080/",
          "height": 102
        }
      },
      "source": [
        "gameCounter = 0\n",
        "studioCounter = 0\n",
        "\n",
        "for developer in dev_df['Developer']:\n",
        "    try:\n",
        "        if developer.lower().find('game') > 0:\n",
        "            gameCounter += 1\n",
        "        if developer.lower().find('studio') > 0:\n",
        "            studioCounter += 1\n",
        "    except:\n",
        "        pass\n",
        "\n",
        "print(gameCounter, 'developers has \"game\" in studio\\'s name.')\n",
        "print('It is', '{0:2.2f}% of all game studios.'.format(gameCounter * 100 / dev_df.shape[0]))\n",
        "print('=' * 50)\n",
        "print(studioCounter, 'developers has \"studio\" in studio\\'s name.')\n",
        "print('It is', '{0:2.2f}% of all game studios.'.format(studioCounter * 100 / dev_df.shape[0]))"
      ],
      "execution_count": 23,
      "outputs": [
        {
          "output_type": "stream",
          "text": [
            "2958 developers has \"game\" in studio's name.\n",
            "It is 17.77% of all game studios.\n",
            "==================================================\n",
            "1863 developers has \"studio\" in studio's name.\n",
            "It is 11.19% of all game studios.\n"
          ],
          "name": "stdout"
        }
      ]
    },
    {
      "cell_type": "markdown",
      "metadata": {
        "id": "o2Y6w4UNKAW5",
        "colab_type": "text"
      },
      "source": [
        "#### 2.2. Platforms overview"
      ]
    },
    {
      "cell_type": "markdown",
      "metadata": {
        "id": "cAMUVP-y8uts",
        "colab_type": "text"
      },
      "source": [
        "Ok, Whats about a platforms? As first, let's count them."
      ]
    },
    {
      "cell_type": "code",
      "metadata": {
        "id": "9CTKvIyVKAW6",
        "colab_type": "code",
        "outputId": "472fcdb4-a73c-444b-b334-0307bb199b0a",
        "colab": {
          "base_uri": "https://localhost:8080/",
          "height": 34
        }
      },
      "source": [
        "platforms = []\n",
        "\n",
        "for row in data['Playable On']:\n",
        "    if row == row:\n",
        "        for platform in row.split(sep=','):\n",
        "            if (platform not in platforms) and len(platform) > 0:\n",
        "                platforms.append(platform)\n",
        "\n",
        "for i in range(0, len(platforms)):\n",
        "    if platforms[i][0] == ' ':\n",
        "        platforms[i] = platforms[i][1:]\n",
        "    i += 1\n",
        "\n",
        "platforms = list(dict.fromkeys(platforms))\n",
        "print(len(platforms))\n",
        "platforms.sort()"
      ],
      "execution_count": 24,
      "outputs": [
        {
          "output_type": "stream",
          "text": [
            "77\n"
          ],
          "name": "stdout"
        }
      ]
    },
    {
      "cell_type": "markdown",
      "metadata": {
        "id": "XL9PXwDeKAW-",
        "colab_type": "text"
      },
      "source": [
        "So we have 77 videogame platforms! Which is most popular?"
      ]
    },
    {
      "cell_type": "code",
      "metadata": {
        "id": "k61ruaW1KAW_",
        "colab_type": "code",
        "outputId": "d4ec286c-6ced-4e7b-9677-b55ade309d73",
        "colab": {
          "base_uri": "https://localhost:8080/",
          "height": 1000
        }
      },
      "source": [
        "platforms_dict = {}\n",
        "\n",
        "for platform in platforms:\n",
        "    count = 0\n",
        "    for row in data['Playable On']:\n",
        "        if row == row:\n",
        "            for elem in row.split(sep=','):\n",
        "                if elem.find(platform) >= 0:\n",
        "                    count += 1\n",
        "    platforms_dict[platform] = count\n",
        "\n",
        "gamesSum = 0\n",
        "for value in platforms_dict.values():\n",
        "    gamesSum += value\n",
        "\n",
        "print('Platform', ' ' * 18, '%', ' ' * 6, 'Released Games')\n",
        "print('===============================================')\n",
        "for key, value in sorted(platforms_dict.items(), key=lambda x: x[1], reverse=True):\n",
        "    print(key, ' ' * (25 - len(key)), '{0:.2f}'.format(100 * value / gamesSum), '\\t', value)"
      ],
      "execution_count": 25,
      "outputs": [
        {
          "output_type": "stream",
          "text": [
            "Platform                    %        Released Games\n",
            "===============================================\n",
            "PC                         31.23 \t 14525\n",
            "PlayStation                15.55 \t 7233\n",
            "Xbox                       8.26 \t 3843\n",
            "PlayStation 4              4.38 \t 2036\n",
            "PlayStation 3              4.12 \t 1915\n",
            "Xbox 360                   3.92 \t 1825\n",
            "Xbox One                   3.28 \t 1524\n",
            "PlayStation 2              3.24 \t 1508\n",
            "Wii                        2.38 \t 1106\n",
            "Game Boy                   2.09 \t 970\n",
            "Nintendo Switch            2.02 \t 940\n",
            "Nintendo 3DS               1.71 \t 795\n",
            "PlayStation Vita           1.64 \t 762\n",
            "Mobile                     1.58 \t 734\n",
            "Nintendo DS                1.51 \t 701\n",
            "PSP                        1.34 \t 622\n",
            "Super Nintendo             1.24 \t 575\n",
            "NES                        1.20 \t 556\n",
            "Game Boy Advance           1.12 \t 519\n",
            "Sega Mega Drive/Genesis    1.05 \t 487\n",
            "Nintendo GameCube          0.93 \t 433\n",
            "Wii U                      0.89 \t 416\n",
            "Arcade                     0.77 \t 356\n",
            "Nintendo 64                0.49 \t 226\n",
            "Browser                    0.40 \t 184\n",
            "Dreamcast                  0.39 \t 182\n",
            "Game Boy Color             0.35 \t 163\n",
            "Sega Saturn                0.32 \t 150\n",
            "Sega Master System         0.26 \t 119\n",
            "Amiga                      0.23 \t 108\n",
            "Neo Geo                    0.23 \t 105\n",
            "Atari 2600                 0.18 \t 84\n",
            "PlayStation VR             0.18 \t 82\n",
            "Android                    0.17 \t 80\n",
            "Sega Game Gear             0.15 \t 69\n",
            "iOS                        0.14 \t 64\n",
            "TurboGrafx-16              0.11 \t 53\n",
            "Oculus Rift                0.10 \t 48\n",
            "Sega CD                    0.10 \t 46\n",
            "Commodore 64               0.08 \t 39\n",
            "PlayStation Now            0.08 \t 39\n",
            "HTC Vive                   0.07 \t 31\n",
            "TurboGrafx-CD              0.05 \t 24\n",
            "OnLive                     0.04 \t 17\n",
            "3DO                        0.03 \t 15\n",
            "Atari 7800                 0.03 \t 15\n",
            "Windows Phone              0.03 \t 15\n",
            "Neo Geo Pocket Color       0.03 \t 14\n",
            "NES/Famicom                0.03 \t 12\n",
            "Sega 32X                   0.03 \t 12\n",
            "Atari 5200                 0.02 \t 11\n",
            "Apple II                   0.02 \t 9\n",
            "Mac                        0.02 \t 9\n",
            "Atari Jaguar               0.02 \t 8\n",
            "Atari Lynx                 0.02 \t 8\n",
            "MSX                        0.02 \t 8\n",
            "Virtual Boy                0.02 \t 8\n",
            "ZX Spectrum                0.02 \t 8\n",
            "N-Gage                     0.02 \t 7\n",
            "Super Nintendo/Famicom     0.02 \t 7\n",
            "Linux                      0.01 \t 6\n",
            "WonderSwan                 0.01 \t 6\n",
            "Neo Geo CD                 0.01 \t 5\n",
            "Philips CD-i               0.01 \t 5\n",
            "Amstrad CPC                0.01 \t 4\n",
            "Atari ST                   0.01 \t 4\n",
            "Ouya                       0.01 \t 3\n",
            "Game & Watch               0.00 \t 2\n",
            "Oculus Quest               0.00 \t 2\n",
            "Sharp X68000               0.00 \t 2\n",
            "WonderSwan Color           0.00 \t 2\n",
            "ColecoVision               0.00 \t 1\n",
            "FM Towns                   0.00 \t 1\n",
            "Gear VR                    0.00 \t 1\n",
            "Intellivision              0.00 \t 1\n",
            "Interactive Movie          0.00 \t 1\n",
            "Oculus Go                  0.00 \t 1\n"
          ],
          "name": "stdout"
        }
      ]
    },
    {
      "cell_type": "markdown",
      "metadata": {
        "id": "d9mke8am9Nm5",
        "colab_type": "text"
      },
      "source": [
        "Of course, this is a site's data and not absolutely correct. But we can say that ~ 31.23% are PC-games, 29% were available on Playstation, 15.5% on Xbox and last 25% - on other platforms."
      ]
    },
    {
      "cell_type": "markdown",
      "metadata": {
        "jupyter": {
          "outputs_hidden": false
        },
        "pycharm": {
          "is_executing": false,
          "name": "#%%\n"
        },
        "id": "JdpO5D5rKAXE",
        "colab_type": "text"
      },
      "source": [
        "#### 2.3. Genres overview"
      ]
    },
    {
      "cell_type": "markdown",
      "metadata": {
        "id": "JNF3ff4mA-5g",
        "colab_type": "text"
      },
      "source": [
        "The situation with genres is not so simple as with platforms. But, as first let's read all genres to a list and clean data."
      ]
    },
    {
      "cell_type": "code",
      "metadata": {
        "pycharm": {
          "is_executing": false
        },
        "id": "E5VdIUp8KAXF",
        "colab_type": "code",
        "colab": {}
      },
      "source": [
        "# Converting genres to list and inserting into cells\n",
        "counter = 0\n",
        "for row in data['Genres']:\n",
        "    if not pd.isnull(row):\n",
        "        data.iat[counter, 5] = row.split(sep=',')\n",
        "    counter += 1"
      ],
      "execution_count": 0,
      "outputs": []
    },
    {
      "cell_type": "markdown",
      "metadata": {
        "id": "syha5cAGPkDa",
        "colab_type": "text"
      },
      "source": [
        "Now i have 230+ genres, most of them are the same. They may have similar spelling or just grammar errors. There is only one way to refactor genres in this situation without neuro network - make it manually."
      ]
    },
    {
      "cell_type": "markdown",
      "metadata": {
        "id": "V_6aCyhbQ4eT",
        "colab_type": "text"
      },
      "source": [
        "Ok, I did it. Time to transform it into our data."
      ]
    },
    {
      "cell_type": "code",
      "metadata": {
        "id": "ERcUJlxHKAXi",
        "colab_type": "code",
        "colab": {}
      },
      "source": [
        "counter = 0\n",
        "for row in data['Genres']:\n",
        "    if row == row:\n",
        "        i = 0\n",
        "        while i < len(row):\n",
        "\n",
        "            if (row[i].lower().find('2.5d platform game') >= 0) or (\n",
        "                row[i].lower().find('2.5d platformer') >= 0):\n",
        "                data['Genres'].loc[counter][i] = '2.5d platformer'\n",
        "            if (row[i].lower().find('breakout clone') >= 0) or (\n",
        "                row[i].lower().find('breakout') >= 0):\n",
        "                data['Genres'].loc[counter][i] = 'breakout'\n",
        "            if (row[i].lower().find(\"shoot 'em up\") >= 0) or (\n",
        "                row[i].lower().find(\"shoot em' up\") >= 0) or (\n",
        "                    row[i].lower().find('shoot-em-up') >= 0):\n",
        "                data['Genres'].loc[counter][i] = \"shoot 'em up\"\n",
        "            if (row[i].lower().find('city-builder') >= 0) or (\n",
        "                row[i].lower().find('city-building') >= 0) or (\n",
        "                    row[i].lower().find('city-building game') >= 0):\n",
        "                data['Genres'].loc[counter][i] = 'city-building'\n",
        "            if (row[i].lower().find(\"hack 'n' slash\") >= 0) or (\n",
        "                row[i].lower().find('hack and slash') >= 0) or (\n",
        "                    row[i].lower().find('hack-and-slash') >= 0):\n",
        "                data['Genres'].loc[counter][i] = 'hack and slash'\n",
        "            if (row[i].lower().find('point and click') >= 0) or (\n",
        "                row[i].lower().find('point-and-click') >= 0) or (\n",
        "                    row[i].lower().find('point-and-click adventure') >= 0):\n",
        "                data['Genres'].loc[counter][i] = 'point and click'\n",
        "            if (row[i].lower().find('strategy rpg') >= 0) or (\n",
        "                row[i].lower().find('dramatic/innovative rpg') >= 0) or (\n",
        "                    row[i].lower().find('action rpg') >= 0) or (\n",
        "                        row[i].lower().find('action role-playing') >= 0) or (\n",
        "                    row[i].lower().find('computer role-playing game') >= 0) or (\n",
        "                    row[i].lower().find('computer role-playing') >= 0) or (\n",
        "                    row[i].lower().find('role playing') >= 0) or (\n",
        "                        row[i].lower().find('role-playing') >= 0) or (\n",
        "                    row[i].lower().find('role-playing game') >= 0) or (\n",
        "                        row[i].lower().find('rpg') >= 0):\n",
        "                data['Genres'].loc[counter][i] = 'rpg'\n",
        "            if (row[i].lower().find('tactical action') >= 0) or (row[i].lower().find('tactical role-playing') >= 0) or (\n",
        "                    row[i].lower().find('tactical role-playing game') >= 0) or (\n",
        "                    row[i].lower().find('tactical rpg') >= 0) or (row[i].lower().find('tactical shooter') >= 0) or (\n",
        "                    row[i].lower().find('tactics') >= 0) or (row[i].lower().find('tactical') >= 0):\n",
        "                data['Genres'].loc[counter][i] = 'tactical'\n",
        "            if (row[i].lower().find('artillery') >= 0) or (row[i].lower().find('artillery game') >= 0):\n",
        "                data['Genres'].loc[counter][i] = 'artillery'\n",
        "            if (row[i].lower().find('mecha') >= 0) or (row[i].lower().find('mech simulator') >= 0) or (\n",
        "                    row[i].lower().find('mecha simulation') >= 0) or (\n",
        "                    row[i].lower().find('mecha simulation game') >= 0):\n",
        "                data['Genres'].loc[counter][i] = 'mecha simulation'\n",
        "            if (row[i].lower().find('platform') >= 0) or (row[i].lower().find('platform game') >= 0) or (\n",
        "                    row[i].lower().find('platformer') >= 0) or (row[i].lower().find('platforming') >= 0):\n",
        "                data['Genres'].loc[counter][i] = 'platformer'\n",
        "            if (row[i].lower().find('puzzle') >= 0) or (row[i].lower().find('puzzle game') >= 0) or (\n",
        "                    row[i].lower().find('puzzle/platform') >= 0) or (row[i].lower().find('puzzles') >= 0):\n",
        "                data['Genres'].loc[counter][i] = 'puzzle'\n",
        "            if (row[i].lower().find('scrolling shooter') >= 0) or (row[i].lower().find('scrolling') >= 0) or (\n",
        "                    row[i].lower().find('strategy side-scroller') >= 0) or (row[i].lower().find('side') >= 0) or (\n",
        "                    row[i].lower().find('side scrolling') >= 0) or (row[i].lower().find('side-scroller') >= 0) or (\n",
        "                    row[i].lower().find('side-scrolling') >= 0) or (\n",
        "                    row[i].lower().find('side-scrolling platform') >= 0) or (row[i].lower().find('sidescroller') >= 0):\n",
        "                data['Genres'].loc[counter][i] = 'side-scrolling'\n",
        "            if (row[i].lower().find('stealth') >= 0) or (row[i].lower().find('stealth action') >= 0) or (\n",
        "                    row[i].lower().find('stealth game') >= 0) or (row[i].lower().find('stealth-based game') >= 0):\n",
        "                data['Genres'].loc[counter][i] = 'stealth'\n",
        "            if (row[i].lower().find('medieval / fantasy') >= 0) or (\n",
        "                    row[i].lower().find('medieval fantasy action') >= 0):\n",
        "                data['Genres'].loc[counter][i] = 'medival'\n",
        "            if (row[i].lower().find('tbs') >= 0) or (row[i].lower().find('turn-based tactical') >= 0) or (\n",
        "                    row[i].lower().find('turn-based tactics') >= 0) or (row[i].lower().find('turn-based') >= 0) or (\n",
        "                    row[i].lower().find('turn-based strategy') >= 0):\n",
        "                data['Genres'].loc[counter][i] = 'turn-based'\n",
        "            if (row[i].lower().find('light gun') >= 0) or (row[i].lower().find('light gun shooter') >= 0) or (\n",
        "                    row[i].lower().find('light-gun shooter') >= 0):\n",
        "                data['Genres'].loc[counter][i] = 'light gun'\n",
        "            if (row[i].lower().find('combat flight simulator') >= 0) or (\n",
        "                    row[i].lower().find('flight simulator') >= 0) or (row[i].lower().find('flight') >= 0) or (\n",
        "                    row[i].lower().find('flight combat') >= 0) or (row[i].lower().find('flight simulation') >= 0):\n",
        "                data['Genres'].loc[counter][i] = 'flight'\n",
        "            if (row[i].lower().find('first-person') >= 0) or (row[i].lower().find('first-person') >= 0) or (\n",
        "                    row[i].lower().find('first-peson') >= 0) or (\n",
        "                    row[i].lower().find('first-person adventure') >= 0) or (row[i].lower().find('first person') >= 0):\n",
        "                data['Genres'].loc[counter][i] = 'first-person'\n",
        "            if (row[i].lower().find('shoote') >= 0) or (\n",
        "                row[i].lower().find('third person tactical shooter') >= 0) or (\n",
        "                row[i].lower().find('third person shooter') >= 0) or (\n",
        "                row[i].lower().find('third-person shooter') >= 0) or (\n",
        "                row[i].lower().find('twin stick shooter') >= 0) or (\n",
        "                row[i].lower().find('third/first person shooter') >= 0) or (\n",
        "                row[i].lower().find('real-time tactical shooter') >= 0) or (\n",
        "                row[i].lower().find('multi-directional shooter') >= 0) or (\n",
        "                row[i].lower().find('first-person shooter') >= 0) or (\n",
        "                row[i].lower().find('shooter') >= 0) or (\n",
        "                row[i].lower().find('shoote') >= 0) or (\n",
        "                row[i].lower().find('shooting') >= 0) or (\n",
        "                row[i].lower().find('first person shooter') >= 0):\n",
        "                data['Genres'].loc[counter][i] = 'shooter'\n",
        "            if (row[i].lower().find('space combat') >= 0) or (row[i].lower().find('space simulation') >= 0) or (\n",
        "                    row[i].lower().find('space simulator') >= 0) or (row[i].lower().find('space trading') >= 0) or (\n",
        "                    row[i].lower().find('space trading and combat simulator') >= 0) or (\n",
        "                    row[i].lower().find('space-shooter') >= 0):\n",
        "                data['Genres'].loc[counter][i] = 'space'\n",
        "            if (row[i].lower().find('dungeon crawl') >= 0) or (row[i].lower().find('dungeon crawler') >= 0):\n",
        "                data['Genres'].loc[counter][i] = 'dungeon crawl'\n",
        "            if (row[i].lower().find('strategy') >= 0) or (row[i].lower().find('strategy game') >= 0) or (\n",
        "                    row[i].lower().find('construction') >= 0) or (row[i].lower().find('rts') >= 0) or (\n",
        "                    row[i].lower().find('4x') >= 0) or (row[i].lower().find('stratergy') >= 0):\n",
        "                data['Genres'].loc[counter][i] = 'strategy'\n",
        "            if (row[i].lower().find('interactive art') >= 0) or (row[i].lower().find('interactive drama') >= 0) or (\n",
        "                    row[i].lower().find('interactive movie') >= 0):\n",
        "                data['Genres'].loc[counter][i] = 'interactive art'\n",
        "            if (row[i].lower().find('card') >= 0) or (row[i].lower().find('card battle') >= 0) or (\n",
        "                    row[i].lower().find('card game') >= 0) or (row[i].lower().find('collectible card game') >= 0):\n",
        "                data['Genres'].loc[counter][i] = 'card'\n",
        "            if (row[i].lower().find('music') >= 0) or (row[i].lower().find('musical') >= 0):\n",
        "                data['Genres'].loc[counter][i] = 'music'\n",
        "            if (row[i].lower().find('rhythm') >= 0) or (row[i].lower().find('rhythm game') >= 0) or (\n",
        "                    row[i].lower().find('music/rhythm') >= 0):\n",
        "                data['Genres'].loc[counter][i] = 'rhythm'\n",
        "            if (row[i].lower().find('rail shooter') >= 0) or (row[i].lower().find('on-rails') >= 0):\n",
        "                data['Genres'].loc[counter][i] = 'rail shooter'\n",
        "            if (row[i].lower().find('mini-games') >= 0) or (row[i].lower().find('minigames') >= 0):\n",
        "                data['Genres'].loc[counter][i] = 'minigame'\n",
        "            if (row[i].lower().find('fighting') >= 0) or (row[i].lower().find('fighting game') >= 0) or (\n",
        "                    row[i].lower().find('combat simulation') >= 0) or (row[i].lower().find('combat simulator') >= 0):\n",
        "                data['Genres'].loc[counter][i] = 'fighting'\n",
        "            if (row[i].lower().find('third-person action adventure') >= 0) or (\n",
        "                    row[i].lower().find('action/adventure') >= 0) or (\n",
        "                    row[i].lower().find('action-adventure game') >= 0) or (\n",
        "                    row[i].lower().find('action-adventure') >= 0) or (row[i].lower().find('action adventure') >= 0):\n",
        "                data['Genres'].loc[counter][i] = 'action/adventure'\n",
        "            if (row[i].lower().find('adventure.') >= 0) or (row[i].lower().find('adventure') >= 0) or (\n",
        "                    row[i].lower().find('adventure game') >= 0):\n",
        "                data['Genres'].loc[counter][i] = 'adventure'\n",
        "            if (row[i].lower().find('psychological thriller') >= 0) or (\n",
        "                    row[i].lower().find('science fiction') >= 0) or (\n",
        "                    row[i].lower().find('surgical action game') >= 0) or (\n",
        "                    row[i].lower().find('action driving') >= 0) or (row[i].lower().find('brawler') >= 0) or (\n",
        "                    row[i].lower().find('american football') >= 0) or (row[i].lower().find('western') >= 0) or (\n",
        "                    row[i].lower().find('kickboxing') >= 0) or (row[i].lower().find('crossover') >= 0) or (\n",
        "                    row[i].lower().find('action') >= 0):\n",
        "                data['Genres'].loc[counter][i] = 'action'\n",
        "            if (row[i].lower().find('aerial combat') >= 0) or (row[i].lower().find('third-person') >= 0) or (\n",
        "                    row[i].lower().find('third-person hack and slash') >= 0) or (\n",
        "                    row[i].lower().find('third person') >= 0):\n",
        "                data['Genres'].loc[counter][i] = 'third-person'\n",
        "            if (row[i].lower().find('racing game') >= 0) or (row[i].lower().find('racing') >= 0):\n",
        "                data['Genres'].loc[counter][i] = 'racing'\n",
        "            if (row[i].lower().find('mmor') >= 0) or (row[i].lower().find('mmorpg') >= 0):\n",
        "                data['Genres'].loc[counter][i] = 'mmorpg'\n",
        "            if (row[i].lower().find('artillery') >= 0) or (row[i].lower().find('date simulation') >= 0) or (\n",
        "                    row[i].lower().find('medical simulation') >= 0) or (row[i].lower().find('simulation') >= 0) or (\n",
        "                    row[i].lower().find('simulator') >= 0) or (row[i].lower().find('vehicle simulation') >= 0):\n",
        "                data['Genres'].loc[counter][i] = 'simulator'\n",
        "            if (row[i].lower().find('family') >= 0) or (row[i].lower().find('family games') >= 0):\n",
        "                data['Genres'].loc[counter][i] = 'family'\n",
        "            if (row[i].lower().find('construction and management simulation') >= 0) or (\n",
        "                    row[i].lower().find('construction') >= 0):\n",
        "                data['Genres'].loc[counter][i] = 'construction'\n",
        "            if (row[i].lower().find('simulation driving') >= 0) or (row[i].lower().find('driving') >= 0):\n",
        "                data['Genres'].loc[counter][i] = 'driving'\n",
        "            if (row[i].lower().find('professional wrestling') >= 0) or (row[i].lower().find('wrestling') >= 0):\n",
        "                data['Genres'].loc[counter][i] = 'wrestling'\n",
        "            if (row[i].lower().find('vehicle simulation') >= 0) or (row[i].lower().find('vehicular combat') >= 0):\n",
        "                data['Genres'].loc[counter][i] = 'vehicle simulatior'\n",
        "            if (row[i].lower().find('3d platform') >= 0) or (row[i].lower().find('3-d') >= 0):\n",
        "                data['Genres'].loc[counter][i] = '3d'\n",
        "            if (row[i].lower().find('real-time strategy') >= 0) or (row[i].lower().find('rts') >= 0):\n",
        "                data['Genres'].loc[counter][i] = 'rts'\n",
        "            if (row[i].lower().find('traditional soccer') >= 0) or (row[i].lower().find('sport') >= 0) or (\n",
        "                    row[i].lower().find('sports') >= 0) or (row[i].lower().find('wrestling') >= 0) or (\n",
        "                    row[i].lower().find('sports game') >= 0):\n",
        "                data['Genres'].loc[counter][i] = 'sport'\n",
        "            if (row[i].lower().find('text adventure') >= 0) or (row[i].lower().find('text') >= 0):\n",
        "                data['Genres'].loc[counter][i] = 'text'\n",
        "            if (row[i].lower().find('social simulation') >= 0) or (row[i].lower().find('social') >= 0):\n",
        "                data['Genres'].loc[counter][i] = 'social'\n",
        "            if (row[i].lower().find('psychological horror') >= 0) or (row[i].lower().find('gothic horror') >= 0) or (\n",
        "                    row[i].lower().find('horror') >= 0):\n",
        "                data['Genres'].loc[counter][i] = 'horror'\n",
        "            if (row[i].lower().find('real-time tactics') >= 0) or (row[i].lower().find('real-time') >= 0):\n",
        "                data['Genres'].loc[counter][i] = 'real-time'\n",
        "            if (row[i].lower().find('mystery') >= 0) or (row[i].lower().find('psychological horror') >= 0) or (\n",
        "                    row[i].lower().find('gothic horror') >= 0) or (row[i].lower().find('horror') >= 0):\n",
        "                data['Genres'].loc[counter][i] = 'horror'\n",
        "            if (row[i].lower().find('fantasy romance visual novel') >= 0) or (row[i].lower().find('visual novel') >= 0):\n",
        "                data['Genres'].loc[counter][i] = 'visual novel'\n",
        "            if (row[i].lower().find('medival') >= 0) or (row[i].lower().find('history') >= 0) or (\n",
        "                    row[i].lower().find('wargame') >= 0) or (row[i].lower().find('world war') >= 0) or (\n",
        "                    row[i].lower().find('war') >= 0):\n",
        "                data['Genres'].loc[counter][i] = 'history'\n",
        "            if (row[i].lower().find('steampunk') >= 0) or (row[i].lower().find('block-breaker') >= 0) or (\n",
        "                    row[i].lower().find('post-retro') >= 0) or (row[i].lower().find('indie') >= 0) or (\n",
        "                    row[i].lower().find('various') >= 0) or (row[i].lower().find('3d') >= 0) or (\n",
        "                    row[i].lower().find('light gun') >= 0) or (row[i].lower().find('god game') >= 0) or (\n",
        "                    row[i].lower().find('minigame') >= 0) or (row[i].lower().find('dungeon crawl') >= 0) or (\n",
        "                    row[i].lower().find('digital pet') >= 0) or (row[i].lower().find('golf') >= 0) or (\n",
        "                    row[i].lower().find('run and gun') >= 0) or (row[i].lower().find('maze') >= 0) or (\n",
        "                    row[i].lower().find('cyberpunk') >= 0) or (row[i].lower().find('fmv') >= 0) or (\n",
        "                    row[i].lower().find('emergent') >= 0):\n",
        "                data['Genres'].loc[counter][i] = 'indie'\n",
        "            else:\n",
        "                data['Genres'].loc[counter][i] = data['Genres'].loc[counter][i].lower()\n",
        "            i += 1\n",
        "    counter += 1"
      ],
      "execution_count": 0,
      "outputs": []
    },
    {
      "cell_type": "markdown",
      "metadata": {
        "id": "-zzDaHT2RU5x",
        "colab_type": "text"
      },
      "source": [
        "I'll convert our new genres into dummy variables and add them to our data. It will help us when we will create the ML model."
      ]
    },
    {
      "cell_type": "code",
      "metadata": {
        "jupyter": {
          "outputs_hidden": false
        },
        "pycharm": {
          "is_executing": false,
          "name": "#%%\n"
        },
        "id": "YJrRyf9aKAXI",
        "colab_type": "code",
        "colab": {
          "base_uri": "https://localhost:8080/",
          "height": 34
        },
        "outputId": "2c2f1594-f588-4c00-c0b6-9bfc0ed54d34"
      },
      "source": [
        "# Getting list of all genres\n",
        "genre = []\n",
        "for elem in data['Genres']:\n",
        "    counter = 0\n",
        "    if not isinstance(elem, float):\n",
        "        while counter < len(elem):\n",
        "            genre.append(elem[counter])\n",
        "            counter += 1\n",
        "\n",
        "# Deleting spaces at words begin\n",
        "counter = 0\n",
        "for elem in genre:\n",
        "    if elem[0] == ' ':\n",
        "        genre[counter] = genre[counter][1:]\n",
        "    counter += 1\n",
        "\n",
        "# Delete duplicates\n",
        "genre = list(dict.fromkeys(genre))\n",
        "\n",
        "# Converted genre's list\n",
        "genres = []\n",
        "for elem in genre:\n",
        "    if elem.lower() not in genres:\n",
        "        genres.append(elem.lower())\n",
        "\n",
        "print(\"Number of genres:\", len(genres))"
      ],
      "execution_count": 28,
      "outputs": [
        {
          "output_type": "stream",
          "text": [
            "Number of genres: 68\n"
          ],
          "name": "stdout"
        }
      ]
    },
    {
      "cell_type": "code",
      "metadata": {
        "jupyter": {
          "outputs_hidden": false
        },
        "pycharm": {
          "is_executing": false,
          "name": "#%%\n"
        },
        "id": "9wG4BTdWKAXn",
        "colab_type": "code",
        "colab": {}
      },
      "source": [
        "data = pd.concat([data, pd.DataFrame(columns=genres)], sort=False)"
      ],
      "execution_count": 0,
      "outputs": []
    },
    {
      "cell_type": "code",
      "metadata": {
        "id": "MkwYlTLMKAXv",
        "colab_type": "code",
        "outputId": "3806d0d6-7b40-4f13-ec40-d9db01df116b",
        "colab": {
          "base_uri": "https://localhost:8080/",
          "height": 34
        }
      },
      "source": [
        "data.shape"
      ],
      "execution_count": 30,
      "outputs": [
        {
          "output_type": "execute_result",
          "data": {
            "text/plain": [
              "(62743, 118)"
            ]
          },
          "metadata": {
            "tags": []
          },
          "execution_count": 30
        }
      ]
    },
    {
      "cell_type": "markdown",
      "metadata": {
        "id": "zWK0dC4Uiyxg",
        "colab_type": "text"
      },
      "source": [
        "And fill with values..."
      ]
    },
    {
      "cell_type": "code",
      "metadata": {
        "jupyter": {
          "outputs_hidden": false
        },
        "pycharm": {
          "is_executing": false,
          "name": "#%%\n"
        },
        "id": "huYe0j8tKAXz",
        "colab_type": "code",
        "colab": {}
      },
      "source": [
        "row_number = -1\n",
        "for row in data['Genres']:\n",
        "    row_number += 1\n",
        "    if isinstance(row, list) is not True:\n",
        "        pass\n",
        "    if isinstance(row, list) is True:\n",
        "        for elem in row:\n",
        "            counter = 0\n",
        "            while counter < len(genres):\n",
        "                if elem.lower() == genres[counter]:\n",
        "                    data.loc[row_number, genres[counter]] = 1\n",
        "                    counter = 80000\n",
        "                counter += 1"
      ],
      "execution_count": 0,
      "outputs": []
    },
    {
      "cell_type": "code",
      "metadata": {
        "jupyter": {
          "outputs_hidden": false
        },
        "pycharm": {
          "is_executing": false,
          "name": "#%%\n"
        },
        "id": "lz5HuAemKAX4",
        "colab_type": "code",
        "colab": {}
      },
      "source": [
        "count = 0\n",
        "for i in range(50, data.shape[1]):\n",
        "    data.iloc[:, i].fillna(0, inplace=True)"
      ],
      "execution_count": 0,
      "outputs": []
    },
    {
      "cell_type": "markdown",
      "metadata": {
        "id": "KZRc7UiVjBdR",
        "colab_type": "text"
      },
      "source": [
        "It remains only to count how many games have one or the other genre."
      ]
    },
    {
      "cell_type": "code",
      "metadata": {
        "id": "cGpmtwuHKAXQ",
        "colab_type": "code",
        "colab": {}
      },
      "source": [
        "counter = 0\n",
        "genre_dict = {}\n",
        "for g in genre:\n",
        "    for cell in data['Genres']:\n",
        "        if cell == cell:\n",
        "            for string in cell:\n",
        "                if string.lower().find(g.lower()) >= 0:\n",
        "                    counter += 1\n",
        "    genre_dict[g.lower()] = counter\n",
        "    counter = 0"
      ],
      "execution_count": 0,
      "outputs": []
    },
    {
      "cell_type": "code",
      "metadata": {
        "id": "DnFjX4OuKAXS",
        "colab_type": "code",
        "colab": {}
      },
      "source": [
        "genres_df = pd.DataFrame(columns=['Genres', 'Counter'])\n",
        "\n",
        "for key,value in genre_dict.items():\n",
        "    genres_df = genres_df.append({'Genres':key, 'Counter':value}, ignore_index = True)"
      ],
      "execution_count": 0,
      "outputs": []
    },
    {
      "cell_type": "markdown",
      "metadata": {
        "id": "r7PBIoFNKAXY",
        "colab_type": "text"
      },
      "source": [
        "And plot the graph."
      ]
    },
    {
      "cell_type": "code",
      "metadata": {
        "id": "jTAmxXhLKAXa",
        "colab_type": "code",
        "outputId": "0421328e-3daa-4e43-a9c2-cf6b6c2549d7",
        "colab": {
          "base_uri": "https://localhost:8080/",
          "height": 448
        }
      },
      "source": [
        "genres_df.sort_values(by='Counter', ascending=True, inplace=True)\n",
        "plt.figure(figsize=(25, 7))\n",
        "plt.grid(color='gray')\n",
        "plt.barh(genres_df['Genres'][-10:], genres_df['Counter'][-10:])\n",
        "plt.show()"
      ],
      "execution_count": 35,
      "outputs": [
        {
          "output_type": "display_data",
          "data": {
            "image/png": "[encoded data removed]",
            "text/plain": [
              "<Figure size 1800x504 with 1 Axes>"
            ]
          },
          "metadata": {
            "tags": []
          }
        }
      ]
    },
    {
      "cell_type": "markdown",
      "metadata": {
        "pycharm": {
          "name": "#%% md\n"
        },
        "id": "0TIwvoURKAXn",
        "colab_type": "text"
      },
      "source": [
        "As we can see most popular genres are action, shooter and adventure."
      ]
    },
    {
      "cell_type": "markdown",
      "metadata": {
        "id": "brjrSFSkmqtP",
        "colab_type": "text"
      },
      "source": [
        "But which ones require more time to be completed? I'll add an average of the game's walkthrough and put it into a new dataframe."
      ]
    },
    {
      "cell_type": "code",
      "metadata": {
        "id": "XcMo_fuIKAYB",
        "colab_type": "code",
        "colab": {}
      },
      "source": [
        "list_temp = {}\n",
        "for elem in genres:\n",
        "    if data[data[elem] == 1].iloc[:, 0].count() != 0 and (data[data[elem] == 1]['Main Story Median'].mean()) > 1:\n",
        "        list_temp[elem] = data[data[elem] == 1]['Main Story Median'].mean()\n"
      ],
      "execution_count": 0,
      "outputs": []
    },
    {
      "cell_type": "code",
      "metadata": {
        "id": "H7Tn-iKFKAYD",
        "colab_type": "code",
        "colab": {}
      },
      "source": [
        "\n",
        "genres_walkthrough_time = pd.DataFrame(columns=['Genre', 'Avg_time'])\n",
        "for key in sorted(list_temp.items(), key=lambda x: x[1], reverse=True):\n",
        "    genres_walkthrough_time = genres_walkthrough_time.append({'Genre': key[0], 'Avg_time': key[1]}, ignore_index=True)"
      ],
      "execution_count": 0,
      "outputs": []
    },
    {
      "cell_type": "markdown",
      "metadata": {
        "id": "1wCTobDTnlO-",
        "colab_type": "text"
      },
      "source": [
        "Time to plot a graph and see the results."
      ]
    },
    {
      "cell_type": "code",
      "metadata": {
        "id": "GgxrbCSaKAYH",
        "colab_type": "code",
        "outputId": "1d50f615-91e5-4fdf-c12a-27be089dd251",
        "colab": {
          "base_uri": "https://localhost:8080/",
          "height": 448
        }
      },
      "source": [
        "genres_walkthrough_time.sort_values(by='Avg_time', ascending=True, inplace=True)\n",
        "plt.figure(figsize=(25, 7))\n",
        "plt.axes(facecolor='#E6E6E6').yaxis.grid() \n",
        "plt.bar(genres_walkthrough_time['Genre'][-15:], genres_walkthrough_time['Avg_time'][-15:])\n",
        "plt.show()"
      ],
      "execution_count": 38,
      "outputs": [
        {
          "output_type": "display_data",
          "data": {
            "image/png": "[encoded data removed]",
            "text/plain": [
              "<Figure size 1800x504 with 1 Axes>"
            ]
          },
          "metadata": {
            "tags": []
          }
        }
      ]
    },
    {
      "cell_type": "markdown",
      "metadata": {
        "id": "ZasySs-Pn0SH",
        "colab_type": "text"
      },
      "source": [
        "Of course, we can not trust information about MMO games, because they have not a single-player company. But in others, all are absolutely logical. RPGs required more time to complete than racings or shooters."
      ]
    },
    {
      "cell_type": "markdown",
      "metadata": {
        "jupyter": {
          "outputs_hidden": false
        },
        "pycharm": {
          "name": "#%%\n"
        },
        "id": "M4GUn_jxKAYL",
        "colab_type": "text"
      },
      "source": [
        "#### 2.4. Games overview"
      ]
    },
    {
      "cell_type": "markdown",
      "metadata": {
        "id": "uWQ30z7i1TK9",
        "colab_type": "text"
      },
      "source": [
        "Before moving on to the part of machine learning,  it remains the last step - an overview of the game's data."
      ]
    },
    {
      "cell_type": "markdown",
      "metadata": {
        "pycharm": {
          "is_executing": false,
          "name": "#%% md\n"
        },
        "id": "0lEFox8aKAYc",
        "colab_type": "text"
      },
      "source": [
        "Let's see the difference between the median and an average value of AllPlayStyles' walkthrough."
      ]
    },
    {
      "cell_type": "code",
      "metadata": {
        "jupyter": {
          "outputs_hidden": false
        },
        "pycharm": {
          "is_executing": false,
          "name": "#%%\n"
        },
        "id": "qfLL4vAKKAYc",
        "colab_type": "code",
        "outputId": "306cf100-7a6d-49c9-9405-c5cd487f570e",
        "colab": {
          "base_uri": "https://localhost:8080/",
          "height": 462
        }
      },
      "source": [
        "plt.figure(figsize=(25, 7))\n",
        "plt.axes(facecolor='#E6E6E6')\n",
        "sns.distplot(data[data['AllPlayStyles Average'] < 20]['AllPlayStyles Average'], label='AVG')\n",
        "sns.distplot(data[data['AllPlayStyles Median'] < 20]['AllPlayStyles Median'], label='Median')\n",
        "plt.legend()\n",
        "plt.show()"
      ],
      "execution_count": 39,
      "outputs": [
        {
          "output_type": "display_data",
          "data": {
            "image/png": "[encoded data removed]",
            "text/plain": [
              "<Figure size 1800x504 with 1 Axes>"
            ]
          },
          "metadata": {
            "tags": []
          }
        }
      ]
    },
    {
      "cell_type": "markdown",
      "metadata": {
        "id": "J0M5IjhR4exH",
        "colab_type": "text"
      },
      "source": [
        "As you can see, our distribution has positive skewness. And for short games, the median value is greater than average. This is possible because our dataset is not perfect and some games have problems with insufficient sample size (especially old games)."
      ]
    },
    {
      "cell_type": "markdown",
      "metadata": {
        "id": "GDMbbSIV7NtD",
        "colab_type": "text"
      },
      "source": [
        "Now let's compare the average walkthrough's time by different playstyles."
      ]
    },
    {
      "cell_type": "code",
      "metadata": {
        "jupyter": {
          "outputs_hidden": false
        },
        "pycharm": {
          "is_executing": false,
          "name": "#%%\n"
        },
        "id": "7c5B-kYNKAYf",
        "colab_type": "code",
        "outputId": "c27407dc-304e-46cb-c55b-77eb05abc65b",
        "colab": {
          "base_uri": "https://localhost:8080/",
          "height": 530
        }
      },
      "source": [
        "plt.figure(figsize=(25, 7))\n",
        "plt.axes(facecolor='#E6E6E6')\n",
        "sns.distplot(data[data['Main Story Median'] < 30]['Main Story Median'], label='Main')\n",
        "sns.distplot(data[data['Main + Extras Median'] < 30]['Main + Extras Median'], label='M+E')\n",
        "sns.distplot(data[data['Completionists Median'] < 30]['Completionists Median'], label='Complete')\n",
        "sns.distplot(data[data['AllPlayStyles Median'] < 20]['AllPlayStyles Median'], label='AllPs')\n",
        "plt.legend()\n",
        "plt.show()\n",
        "print('Main Story:\\t', data['Main Story Median'].mean())\n",
        "print('Main + Extras:\\t', data['Main + Extras Median'].mean())\n",
        "print('Completionists:\\t', data['Completionists Median'].mean())\n",
        "print('AllPlayStyles:\\t', data['AllPlayStyles Median'].mean())"
      ],
      "execution_count": 40,
      "outputs": [
        {
          "output_type": "display_data",
          "data": {
            "image/png": "[encoded data removed]",
            "text/plain": [
              "<Figure size 1800x504 with 1 Axes>"
            ]
          },
          "metadata": {
            "tags": []
          }
        },
        {
          "output_type": "stream",
          "text": [
            "Main Story:\t 8.940913060183805\n",
            "Main + Extras:\t 17.373437540910647\n",
            "Completionists:\t 23.686248321673272\n",
            "AllPlayStyles:\t 11.494424545807588\n"
          ],
          "name": "stdout"
        }
      ]
    },
    {
      "cell_type": "markdown",
      "metadata": {
        "id": "inb1jYeN78xr",
        "colab_type": "text"
      },
      "source": [
        "I'm not really sure, how 'AllPlayStyles' calculated, but it still amazing. To complete a game on 100% it needs 3 times more than just finish main scenario."
      ]
    },
    {
      "cell_type": "code",
      "metadata": {
        "jupyter": {
          "outputs_hidden": false
        },
        "pycharm": {
          "is_executing": false,
          "name": "#%%    \n"
        },
        "id": "K_LM8sLsKAYi",
        "colab_type": "code",
        "outputId": "ee266600-58bc-45ee-c112-7774630d9992",
        "colab": {
          "base_uri": "https://localhost:8080/",
          "height": 462
        }
      },
      "source": [
        "plt.figure(figsize=(25, 7))\n",
        "plt.axes(facecolor='#E6E6E6')\n",
        "sns.distplot(data[data['Co-Op Average'] < 30]['Co-Op Average'], label='Average')\n",
        "sns.distplot(data[data['Co-Op Median'] < 30]['Co-Op Median'], label='Median')\n",
        "\n",
        "plt.legend()\n",
        "plt.show()"
      ],
      "execution_count": 41,
      "outputs": [
        {
          "output_type": "display_data",
          "data": {
            "image/png": "[encoded data removed]",
            "text/plain": [
              "<Figure size 1800x504 with 1 Axes>"
            ]
          },
          "metadata": {
            "tags": []
          }
        }
      ]
    },
    {
      "cell_type": "markdown",
      "metadata": {
        "id": "k5wNCUP7D-It",
        "colab_type": "text"
      },
      "source": [
        "And last I want to see a statistic about the count of games released by year. Let's prepare the data."
      ]
    },
    {
      "cell_type": "code",
      "metadata": {
        "jupyter": {
          "outputs_hidden": false
        },
        "pycharm": {
          "is_executing": false,
          "name": "#%%\n"
        },
        "id": "xXdD8k9yKAYq",
        "colab_type": "code",
        "colab": {}
      },
      "source": [
        "year_time = data[['Released in NA', 'Main Story Median']]\n",
        "year_time = year_time.reindex(range(0, len(year_time)))"
      ],
      "execution_count": 0,
      "outputs": []
    },
    {
      "cell_type": "code",
      "metadata": {
        "jupyter": {
          "outputs_hidden": false
        },
        "pycharm": {
          "is_executing": false,
          "name": "#%%\n"
        },
        "id": "Rg1Zj93UKAYs",
        "colab_type": "code",
        "outputId": "c347b735-c288-4bd8-a5f5-af0379cb2d65",
        "colab": {
          "base_uri": "https://localhost:8080/",
          "height": 49
        }
      },
      "source": [
        "indexes_list_temp = []\n",
        "for i in range(0, len(year_time)):\n",
        "    if (year_time.iloc[i, 0] != year_time.iloc[i, 0]) or (year_time.iloc[i, 1] != year_time.iloc[i, 1]):\n",
        "        indexes_list_temp.append(i)\n",
        "\n",
        "\n",
        "year_time.drop(indexes_list_temp, axis = 0, inplace=True)\n",
        "year_time.reindex(range(0, len(year_time) - len(indexes_list_temp)))"
      ],
      "execution_count": 43,
      "outputs": [
        {
          "output_type": "execute_result",
          "data": {
            "text/html": [
              "<div>\n",
              "<style scoped>\n",
              "    .dataframe tbody tr th:only-of-type {\n",
              "        vertical-align: middle;\n",
              "    }\n",
              "\n",
              "    .dataframe tbody tr th {\n",
              "        vertical-align: top;\n",
              "    }\n",
              "\n",
              "    .dataframe thead th {\n",
              "        text-align: right;\n",
              "    }\n",
              "</style>\n",
              "<table border=\"1\" class=\"dataframe\">\n",
              "  <thead>\n",
              "    <tr style=\"text-align: right;\">\n",
              "      <th></th>\n",
              "      <th>Released in NA</th>\n",
              "      <th>Main Story Median</th>\n",
              "    </tr>\n",
              "  </thead>\n",
              "  <tbody>\n",
              "  </tbody>\n",
              "</table>\n",
              "</div>"
            ],
            "text/plain": [
              "Empty DataFrame\n",
              "Columns: [Released in NA, Main Story Median]\n",
              "Index: []"
            ]
          },
          "metadata": {
            "tags": []
          },
          "execution_count": 43
        }
      ]
    },
    {
      "cell_type": "code",
      "metadata": {
        "id": "vB_O0--sKAYv",
        "colab_type": "code",
        "colab": {}
      },
      "source": [
        "for i in range(0, len(year_time)):\n",
        "  if not (isinstance(year_time.iloc[i, 0], float)):\n",
        "    year_time.iloc[i, 0] = year_time.iloc[i, 0][-4:]\n",
        "  else:\n",
        "    year_time.drop(i, axis = 0, inplace=True)"
      ],
      "execution_count": 0,
      "outputs": []
    },
    {
      "cell_type": "code",
      "metadata": {
        "id": "NUOpW0A2KAYy",
        "colab_type": "code",
        "colab": {}
      },
      "source": [
        "year_time = year_time.sort_values(by='Released in NA')"
      ],
      "execution_count": 0,
      "outputs": []
    },
    {
      "cell_type": "markdown",
      "metadata": {
        "id": "_SST8ucLEWLH",
        "colab_type": "text"
      },
      "source": [
        "Now we have a df with year of release and median walkthrough in hours. How changed this value over the years?"
      ]
    },
    {
      "cell_type": "code",
      "metadata": {
        "id": "utge3EJSKAY2",
        "colab_type": "code",
        "outputId": "2c042413-54c1-4d28-9aa0-0131d46bf2eb",
        "colab": {
          "base_uri": "https://localhost:8080/",
          "height": 448
        }
      },
      "source": [
        "plt.figure(figsize=(25, 7))\n",
        "plt.axes(facecolor='#BBB09B')\n",
        "plt.grid(color='gray')\n",
        "for i in range(1000, len(year_time), 25):\n",
        "    y = year_time.iloc[i - 900:i, 1].mean()\n",
        "    plt.plot(year_time.iloc[i, 0], y, marker='o', color='#464655')\n",
        "\n",
        "    y = year_time.iloc[i - 900:i, 1].median()\n",
        "    plt.plot(year_time.iloc[i, 0], y, marker='o', color='#D10029')\n",
        "plt.legend(['Average', 'Median'])\n",
        "plt.show()"
      ],
      "execution_count": 46,
      "outputs": [
        {
          "output_type": "display_data",
          "data": {
            "image/png": "[encoded data removed]",
            "text/plain": [
              "<Figure size 1800x504 with 1 Axes>"
            ]
          },
          "metadata": {
            "tags": []
          }
        }
      ]
    },
    {
      "cell_type": "markdown",
      "metadata": {
        "id": "ULFxWocZFAup",
        "colab_type": "text"
      },
      "source": [
        "Ok, we know, that average game's duration is larger than in 90 ', but the peak was in 2005-2012."
      ]
    },
    {
      "cell_type": "markdown",
      "metadata": {
        "id": "87sADP0XFj5P",
        "colab_type": "text"
      },
      "source": [
        "What about a number of released games by years?"
      ]
    },
    {
      "cell_type": "code",
      "metadata": {
        "scrolled": true,
        "id": "2-RZJmeBKAY5",
        "colab_type": "code",
        "outputId": "dcffd72a-b74b-4306-bc6e-32a91417bb91",
        "colab": {
          "base_uri": "https://localhost:8080/",
          "height": 465
        }
      },
      "source": [
        "plt.figure(figsize=(25, 7))\n",
        "plt.axes(facecolor='#BBB09B')\n",
        "plt.plot(year_time['Released in NA'].unique(), year_time.groupby('Released in NA').count(), linewidth=3,\n",
        "         color='#464655')"
      ],
      "execution_count": 47,
      "outputs": [
        {
          "output_type": "execute_result",
          "data": {
            "text/plain": [
              "[<matplotlib.lines.Line2D at 0x7fe6974a4390>]"
            ]
          },
          "metadata": {
            "tags": []
          },
          "execution_count": 47
        },
        {
          "output_type": "display_data",
          "data": {
            "image/png": "[encoded data removed]",
            "text/plain": [
              "<Figure size 1800x504 with 1 Axes>"
            ]
          },
          "metadata": {
            "tags": []
          }
        }
      ]
    },
    {
      "cell_type": "markdown",
      "metadata": {
        "id": "x-strQsXF4CV",
        "colab_type": "text"
      },
      "source": [
        "Yes, every year more and more games come. I can explain the decline in 2016-2019 only as the imperfection of the data."
      ]
    },
    {
      "cell_type": "markdown",
      "metadata": {
        "id": "kQi5jFP1KAY7",
        "colab_type": "text"
      },
      "source": [
        "### 3. Machine learning models\n",
        "(temporarily unavailable)"
      ]
    }
  ]
}